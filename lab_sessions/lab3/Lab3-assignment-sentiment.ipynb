{
 "cells": [
  {
   "cell_type": "markdown",
   "metadata": {},
   "source": [
    "# Lab3 - Assignment Sentiment"
   ]
  },
  {
   "cell_type": "markdown",
   "metadata": {},
   "source": [
    "Copyright: Vrije Universiteit Amsterdam, Faculty of Humanities, CLTL"
   ]
  },
  {
   "cell_type": "markdown",
   "metadata": {},
   "source": [
    "This notebook describes the LAB-3 assignment of the Text Mining course. It is about sentiment analysis.\n",
    "\n",
    "The aims of the assignment are:\n",
    "* Learn how to run a rule-based sentiment analysis module (VADER)\n",
    "* Learn how to run a machine learning sentiment analysis module (Scikit-Learn/ Naive Bayes)\n",
    "* Learn how to run scikit-learn metrics for the quantitative evaluation\n",
    "* Learn how to perform and interpret a quantitative evaluation of the outcomes of the tools (in terms of Precision, Recall, and F<sub>1</sub>)\n",
    "* Learn how to evaluate the results qualitatively (by examining the data) \n",
    "* Get insight into differences between the two applied methods\n",
    "* Get insight into the effects of using linguistic preprocessing\n",
    "* Be able to describe differences between the two methods in terms of their results\n",
    "* Get insight into issues when applying these methods across different  domains\n",
    "\n",
    "In this assignment, you are going to create your own gold standard set from 50 tweets. You will the VADER and scikit-learn classifiers to these tweets and evaluate the results by using evaluation metrics and inspecting the data.\n",
    "\n",
    "We recommend you go through the notebooks in the following order:\n",
    "* **Read the assignment (see below)**\n",
    "* **Lab3.2-Sentiment-analysis-with-VADER.ipynb**\n",
    "* **Lab3.3-Sentiment-analysis.with-scikit-learn.ipynb**\n",
    "* **Answer the questions of the assignment (see below) using the provided notebooks and submit**\n",
    "\n",
    "In this assignment you are asked to perform both quantitative evaluations and error analyses:\n",
    "* a quantitative evaluation concerns the scores (Precision, Recall, and F<sub>1</sub>) provided by scikit's classification_report. It includes the scores per category, as well as micro and macro averages. Discuss whether the scores are balanced or not between the different categories (positive, negative, neutral) and between precision and recall. Discuss the shortcomings (if any) of the classifier based on these scores\n",
    "* an error analysis regarding the misclassifications of the classifier. It involves going through the texts and trying to understand what has gone wrong. It servers to get insight in what could be done to improve the performance of the classifier. Do you observe patterns in misclassifications?  Discuss why these errors are made and propose ways to solve them."
   ]
  },
  {
   "cell_type": "markdown",
   "metadata": {},
   "source": [
    "## Credits\n",
    "The notebooks in this block have been originally created by [Marten Postma](https://martenpostma.github.io) and [Isa Maks](https://research.vu.nl/en/persons/e-maks). Adaptations were made by [Filip Ilievski](http://ilievski.nl)."
   ]
  },
  {
   "cell_type": "markdown",
   "metadata": {},
   "source": [
    "## Part I: VADER assignments\n",
    "\n",
    "\n",
    "### Preparation (nothing to submit):\n",
    "To be able to answer the VADER questions you need to know how the tool works. \n",
    "* Read more about the VADER tool in [this blog](http://t-redactyl.io/blog/2017/04/using-vader-to-handle-sentiment-analysis-with-social-media-text.html).  \n",
    "* VADER provides 4 scores (positive, negative, neutral, compound). Be sure to understand what they mean and how they are calculated.\n",
    "* VADER uses rules to handle linguistic phenomena such as negation and intensification. Be sure to understand which rules are used, how they work, and why they are important.\n",
    "* VADER makes use of a sentiment lexicon. Have a look at the lexicon. Be sure to understand which information can be found there (lemma?, wordform?, part-of-speech?, polarity value?, word meaning?) What do all scores mean? https://github.com/cjhutto/vaderSentiment/blob/master/vaderSentiment/vader_lexicon.txt) \n",
    "\n",
    "\n",
    "### [3.5 points] Question1:\n",
    "\n",
    "Regard the following sentences and their output as given by VADER. Regard sentences 1 to 7, and explain the outcome **for each sentence**. Take into account both the rules applied by VADER and the lexicon that is used. You will find that some of the results are reasonable, but others are not. Explain what is going wrong or not when correct and incorrect results are produced. \n",
    "\n",
    "```\n",
    "INPUT SENTENCE 1 I love apples\n",
    "VADER OUTPUT {'neg': 0.0, 'neu': 0.192, 'pos': 0.808, 'compound': 0.6369}\n",
    "\n",
    "INPUT SENTENCE 2 I don't love apples\n",
    "VADER OUTPUT {'neg': 0.627, 'neu': 0.373, 'pos': 0.0, 'compound': -0.5216}\n",
    "\n",
    "INPUT SENTENCE 3 I love apples :-)\n",
    "VADER OUTPUT {'neg': 0.0, 'neu': 0.133, 'pos': 0.867, 'compound': 0.7579}\n",
    "\n",
    "INPUT SENTENCE 4 These houses are ruins\n",
    "VADER OUTPUT {'neg': 0.492, 'neu': 0.508, 'pos': 0.0, 'compound': -0.4404}\n",
    "\n",
    "INPUT SENTENCE 5 These houses are certainly not considered ruins\n",
    "VADER OUTPUT {'neg': 0.0, 'neu': 0.51, 'pos': 0.49, 'compound': 0.5867}\n",
    "\n",
    "INPUT SENTENCE 6 He lies in the chair in the garden\n",
    "VADER OUTPUT {'neg': 0.286, 'neu': 0.714, 'pos': 0.0, 'compound': -0.4215}\n",
    "\n",
    "INPUT SENTENCE 7 This house is like any house\n",
    "VADER OUTPUT {'neg': 0.0, 'neu': 0.667, 'pos': 0.333, 'compound': 0.3612}\n",
    "```"
   ]
  },
  {
   "cell_type": "markdown",
   "metadata": {},
   "source": [
    "### Question1: Ansers\n",
    "\n",
    "1. The first sentence has been determined to be of a positive nature. This is visible my the high score for 'pos'  as well as 'compound.' The reason for the high score probably is due to the presence of the word \"love\" in the sentence, which scores very highly on positivity.\n",
    "\n",
    "2. The second sentence is the inverse of the first one; and VADER seems to have picked that up very well. This sentence has a very negative rating, which can be observed by the high negative score as well as the low/negative compound score. The reason for this is because the \"don't\" reverses the meaning behind \"love\", turning it from a positive into a negative. VADER is capable of recognizing these kinds of negations.\n",
    "\n",
    "3. The Third sentence is similar to the first one, and Vader has judged it in a similar fashion too. The only difference for the sentence itself is that it includes the presence of a positive sentiment-laden emoticon (that being the smiley face). VADER is capable of picking up those emoticons. And given the positivity behind the smiley-face emoticon, the positive message behind the message gets reinforced even more, leading to the higher rating. What also deserves attention is that the sentence is relatively short, which allows for neutral terms like houses, to play a large role in adding a judgement of neutrality to the sentence.\n",
    "\n",
    "4. This sentence solely depicts a negative thing. The word \"ruin\" carries with it a negative connotation which probably is why the overal sentence got judged by VADER with an overall negative perception.\n",
    "\n",
    "5. Here again we see a negation getting detected by VADER, but in the opposite direction. Vader has picked up that the houses are the inverse of ruins, which turns the negative into a positive sentiment. But this sentence also includes the word \"very\", which VADER is also capable of recognizing as a degree modifier, causing VADER to reinforce the positivity even more. This causes the compound score to be positive.\n",
    "However, the neutral words like considered and houses add a neutral to the overall judgement.\n",
    "\n",
    "6. Now here, VADER's decisions seem to stop making sense. Whilst this sentence appears to us, humans, as purely neutral, VADER however gave it a a mixture between a negative and neutral rating. The reason for this is that that we interpret the word \"lies\" as a form of lying on some thing/object, which is neutral. However, VADER probably interpreted the world \"lies\" as the multiple of the word \"lie\", which carries a strong negative connotation with it. The other words are negative however. This together is what caused the mainly neutral, but also negative rating.\n",
    "\n",
    "7. The final sentence has a similar problem going on. Wheras we would interpret the sentence neutrally because we know the word \"like\" is used in this context to compare two things, VADER interprets the word \"like\" positively, because it is one of the forms of the verb \"to like\", which carries a positive connotation with it. The rest of the sentence is neutral, so VADER judges this sentence as mostly neutral, but also positive, which is wrong to us of course."
   ]
  },
  {
   "cell_type": "markdown",
   "metadata": {},
   "source": [
    "### [Points: 2.5] Exercise 2: Collecting 50 tweets for evaluation\n",
    "Collect 50 tweets. Try to find tweets that are interesting for sentiment analysis, e.g., very positive, neutral, and negative tweets. These could be your own tweets (typed in) or collected from the Twitter stream. If you have trouble accessing Twitter, try to find an existing dataset (on websites like kaggle or huggingface).\n",
    "\n",
    "We will store the tweets in the file **my_tweets.json** (use a text editor to edit).\n",
    "For each tweet, you should insert:\n",
    "* sentiment analysis label: negative | neutral | positive (this you determine yourself, this is not done by a computer)\n",
    "* the text of the tweet\n",
    "* the Tweet-URL\n",
    "\n",
    "from:\n",
    "```\n",
    "    \"1\": {\n",
    "        \"sentiment_label\": \"\",\n",
    "        \"text_of_tweet\": \"\",\n",
    "        \"tweet_url\": \"\",\n",
    "```\n",
    "to:\n",
    "```\n",
    "\"1\": {\n",
    "        \"sentiment_label\": \"positive\",\n",
    "        \"text_of_tweet\": \"All across America people chose to get involved, get engaged and stand up. Each of us can make a difference, and all of us ought to try. So go keep changing the world in 2018.\",\n",
    "        \"tweet_url\" : \"https://twitter.com/BarackObama/status/946775615893655552\",\n",
    "    },\n",
    "```"
   ]
  },
  {
   "cell_type": "markdown",
   "metadata": {},
   "source": [
    "You can load your tweets with human annotation in the following way."
   ]
  },
  {
   "cell_type": "code",
   "execution_count": 1,
   "metadata": {},
   "outputs": [],
   "source": [
    "import json\n",
    "\n",
    "from nltk.sentiment.vader import SentimentIntensityAnalyzer\n",
    "\n",
    "from sklearn.datasets import load_files\n",
    "from sklearn.metrics import classification_report\n",
    "\n",
    "from os import getcwd\n",
    "\n",
    "from typing import List, Dict\n",
    "\n",
    "import spacy\n",
    "from spacy.tokens.doc import Doc\n",
    "\n",
    "import numpy as np\n",
    "from numpy import array"
   ]
  },
  {
   "cell_type": "code",
   "execution_count": 2,
   "metadata": {},
   "outputs": [],
   "source": [
    "nlp = spacy.load('en_core_web_sm')\n",
    "vader_model = SentimentIntensityAnalyzer()\n",
    "\n",
    "def run_vader(textual_unit, \n",
    "              lemmatize=False, \n",
    "              parts_of_speech_to_consider=None,\n",
    "              verbose=0):\n",
    "    \"\"\"\n",
    "    Run VADER on a sentence from spacy\n",
    "    \n",
    "    :param str textual unit: a textual unit, e.g., sentence, sentences (one string)\n",
    "    (by looping over doc.sents)\n",
    "    :param bool lemmatize: If True, provide lemmas to VADER instead of words\n",
    "    :param set parts_of_speech_to_consider:\n",
    "    -None or empty set: all parts of speech are provided\n",
    "    -non-empty set: only these parts of speech are considered.\n",
    "    :param int verbose: if set to 1, information is printed\n",
    "    about input and output\n",
    "    \n",
    "    :rtype: dict\n",
    "    :return: vader output dict\n",
    "    \"\"\"\n",
    "    doc = nlp(textual_unit)\n",
    "        \n",
    "    input_to_vader = []\n",
    "\n",
    "    for sent in doc.sents:\n",
    "        for token in sent:\n",
    "\n",
    "            to_add = token.text\n",
    "\n",
    "            if lemmatize:\n",
    "                to_add = token.lemma_\n",
    "\n",
    "                if to_add == '-PRON-': \n",
    "                    to_add = token.text\n",
    "\n",
    "            if parts_of_speech_to_consider:\n",
    "                if token.pos_ in parts_of_speech_to_consider:\n",
    "                    input_to_vader.append(to_add) \n",
    "            else:\n",
    "                input_to_vader.append(to_add)\n",
    "\n",
    "    scores = vader_model.polarity_scores(' '.join(input_to_vader))\n",
    "    \n",
    "    if verbose >= 1:\n",
    "        print()\n",
    "        print('INPUT SENTENCE', sent)\n",
    "        print('INPUT TO VADER', input_to_vader)\n",
    "        print('VADER OUTPUT', scores)\n",
    "\n",
    "    return scores"
   ]
  },
  {
   "cell_type": "code",
   "execution_count": 3,
   "metadata": {},
   "outputs": [],
   "source": [
    "my_tweets = json.load(open('my_tweets.json'))"
   ]
  },
  {
   "cell_type": "code",
   "execution_count": 4,
   "metadata": {},
   "outputs": [
    {
     "name": "stdout",
     "output_type": "stream",
     "text": [
      "1 {'sentiment_label': 'negative', 'text_of_tweet': 'when modi promised “minimum government maximum governance” expected him begin the difficult job reforming the state why does take years get justice state should and not business and should exit psus and temples', 'tweet_url': 'https://x.com/julie81/status/981423403281674814'}\n"
     ]
    }
   ],
   "source": [
    "for id_, tweet_info in my_tweets.items():\n",
    "    print(id_, tweet_info)\n",
    "    if int(id_) == 1:\n",
    "        break"
   ]
  },
  {
   "cell_type": "markdown",
   "metadata": {},
   "source": [
    "### [5 points] Question 3:\n",
    "\n",
    "Run VADER on your own tweets (see function **run_vader** from notebook **Lab2-Sentiment-analysis-using-VADER.ipynb**). You can use the code snippet below this explanation as a starting point. \n",
    "* [2.5 points] a. Perform a quantitative evaluation. Explain the different scores, and explain which scores are most relevant and why.\n",
    "* [2.5 points] b. Perform an error analysis: select 10 positive, 10 negative and 10 neutral tweets that are not correctly classified and try to understand why. Refer to the VADER-rules and the VADER-lexicon. Of course, if there are less than 10 errors for a category, you only have to check those. For example, if there are only 5 errors for positive tweets, you just describe those."
   ]
  },
  {
   "cell_type": "code",
   "execution_count": 5,
   "metadata": {},
   "outputs": [],
   "source": [
    "def vader_output_to_label(vader_output):\n",
    "    \"\"\"\n",
    "    map vader output e.g.,\n",
    "    {'neg': 0.0, 'neu': 0.0, 'pos': 1.0, 'compound': 0.4215}\n",
    "    to one of the following values:\n",
    "    a) positive float -> 'positive'\n",
    "    b) 0.0 -> 'neutral'\n",
    "    c) negative float -> 'negative'\n",
    "    \n",
    "    :param dict vader_output: output dict from vader\n",
    "    \n",
    "    :rtype: str\n",
    "    :return: 'negative' | 'neutral' | 'positive'\n",
    "    \"\"\"\n",
    "    compound = vader_output['compound']\n",
    "    \n",
    "    if compound < 0:\n",
    "        return 'negative'\n",
    "    elif compound == 0.0:\n",
    "        return 'neutral'\n",
    "    elif compound > 0.0:\n",
    "        return 'positive'\n",
    "    \n",
    "assert vader_output_to_label( {'neg': 0.0, 'neu': 0.0, 'pos': 1.0, 'compound': 0.0}) == 'neutral'\n",
    "assert vader_output_to_label( {'neg': 0.0, 'neu': 0.0, 'pos': 1.0, 'compound': 0.01}) == 'positive'\n",
    "assert vader_output_to_label( {'neg': 0.0, 'neu': 0.0, 'pos': 1.0, 'compound': -0.01}) == 'negative'"
   ]
  },
  {
   "cell_type": "code",
   "execution_count": 6,
   "metadata": {},
   "outputs": [
    {
     "name": "stdout",
     "output_type": "stream",
     "text": [
      "              precision    recall  f1-score   support\n",
      "\n",
      "    negative       0.42      0.45      0.43        11\n",
      "     neutral       0.62      0.28      0.38        18\n",
      "    positive       0.53      0.76      0.63        21\n",
      "\n",
      "    accuracy                           0.52        50\n",
      "   macro avg       0.53      0.50      0.48        50\n",
      "weighted avg       0.54      0.52      0.50        50\n",
      "\n"
     ]
    }
   ],
   "source": [
    "tweets = []\n",
    "all_vader_output = []\n",
    "gold = []\n",
    "\n",
    "# settings (to change for different experiments)\n",
    "to_lemmatize = True \n",
    "pos = set()\n",
    "\n",
    "for id_, tweet_info in my_tweets.items():\n",
    "    the_tweet = tweet_info['text_of_tweet']\n",
    "    vader_output = run_vader(the_tweet)\n",
    "    vader_label = vader_output_to_label(vader_output=vader_output)# convert vader output to category\n",
    "    \n",
    "    tweets.append(the_tweet)\n",
    "    all_vader_output.append(vader_label)            # predictions\n",
    "    gold.append(tweet_info['sentiment_label'])      # true labels\n",
    "    \n",
    "# use scikit-learn's classification report\n",
    "report = classification_report(y_true=gold, y_pred=all_vader_output)\n",
    "print(report)\n",
    "\n"
   ]
  },
  {
   "cell_type": "markdown",
   "metadata": {},
   "source": [
    "### Quantitative Evaluation\n",
    "\n",
    "When considering how VADER performed, it is disappointing to see that VADER performed poorly on most metrics.\n",
    "The most important metrics to consider are the f1-score, accuracy and the macro- & weighted-avg.\n",
    "\n",
    "The f1-score is important because it effectively brings the performance of both the precision and recall together, leading to a more hollistic view of the model's performance. \n",
    "\n",
    "The accuracy is important because it simply tells how often the model was correct (in percentages). Many AI models get judged based on accuracy. Accuracy also simply is a very intuitive way of understanding how capable the model is. \n",
    "\n",
    "The macro- & micro-avg are also of great importance because they, just like accuracy, are frequently used for benchmarking models. They both serve the same cause, and both work with averages, but have one big underlying difference. \n",
    "\n",
    "Whilst the weighted-average takes into account the different sizes for the classes, the macro-average does not. This is not a big deal when the difference in class-size difference is roughly null. But when the difference is substantial, this becomes a big deal. \n",
    "\n",
    "In this experiment, the sizes do matter. Whilst the amount of neutral and positive tweets are roughly the same, there are only half the amount of tweets for the negative class, causing it to get somewhat underrepresented. Therefore, the weighted average is preferred over the macro average in this case.\n"
   ]
  },
  {
   "cell_type": "markdown",
   "metadata": {},
   "source": [
    "### Error Analysis\n"
   ]
  },
  {
   "cell_type": "markdown",
   "metadata": {},
   "source": [
    "### [4 points] Question 4:\n",
    "Run VADER on the set of airline tweets with the following settings:\n",
    "\n",
    "* Run VADER (as it is) on the set of airline tweets \n",
    "* Run VADER on the set of airline tweets after having lemmatized the text\n",
    "* Run VADER on the set of airline tweets with only adjectives\n",
    "* Run VADER on the set of airline tweets with only adjectives and after having lemmatized the text\n",
    "* Run VADER on the set of airline tweets with only nouns\n",
    "* Run VADER on the set of airline tweets with only nouns and after having lemmatized the text\n",
    "* Run VADER on the set of airline tweets with only verbs\n",
    "* Run VADER on the set of airline tweets with only verbs and after having lemmatized the text\n",
    "\n",
    "* [1 point] a. Generate for all separate experiments the classification report, i.e., Precision, Recall, and F<sub>1</sub> scores per category as well as micro and macro averages. **Use a different code cell (or multiple code cells) for each experiment.**\n",
    "* [3 points] b. Compare the scores and explain what they tell you.\n",
    "* - Does lemmatisation help? Explain why or why not.\n",
    "* - Are all parts of speech equally important for sentiment analysis? Explain why or why not."
   ]
  },
  {
   "cell_type": "code",
   "execution_count": 59,
   "metadata": {},
   "outputs": [],
   "source": [
    "def map_label(input: int) -> str:\n",
    "    \"\"\"Maps old label to new one\"\"\"\n",
    "    if input == 0:\n",
    "        return \"negative\"\n",
    "    elif input == 1:\n",
    "        return \"neutral\"\n",
    "    elif input == 2:\n",
    "        return \"positive\"\n",
    "    else:\n",
    "        raise ValueError"
   ]
  },
  {
   "cell_type": "code",
   "execution_count": null,
   "metadata": {},
   "outputs": [
    {
     "name": "stdout",
     "output_type": "stream",
     "text": [
      "['neutral', 'neutral', 'positive', 'neutral', 'negative', 'negative', 'neutral', 'neutral', 'negative', 'neutral', 'negative', 'neutral', 'negative', 'negative', 'positive', 'neutral', 'negative', 'negative', 'positive', 'negative', 'positive', 'positive', 'positive', 'neutral', 'positive', 'neutral', 'negative', 'positive', 'positive', 'negative', 'negative', 'neutral', 'negative', 'positive', 'negative', 'negative', 'neutral', 'neutral', 'neutral', 'neutral', 'neutral', 'positive', 'negative', 'negative', 'negative', 'neutral', 'negative', 'negative', 'neutral', 'positive', 'negative', 'positive', 'negative', 'positive', 'negative', 'neutral', 'negative', 'positive', 'positive', 'positive', 'negative', 'neutral', 'positive', 'positive', 'positive', 'positive', 'negative', 'neutral', 'neutral', 'positive', 'neutral', 'negative', 'negative', 'neutral', 'neutral', 'neutral', 'negative', 'negative', 'positive', 'negative', 'neutral', 'negative', 'neutral', 'positive', 'neutral', 'negative', 'positive', 'positive', 'negative', 'positive', 'negative', 'negative', 'positive', 'positive', 'negative', 'positive', 'positive', 'negative', 'neutral', 'negative', 'neutral', 'negative', 'negative', 'negative', 'negative', 'neutral', 'positive', 'neutral', 'positive', 'positive', 'positive', 'neutral', 'negative', 'positive', 'positive', 'negative', 'negative', 'positive', 'negative', 'negative', 'neutral', 'neutral', 'neutral', 'positive', 'neutral', 'negative', 'negative', 'positive', 'negative', 'neutral', 'neutral', 'negative', 'neutral', 'positive', 'neutral', 'negative', 'positive', 'neutral', 'negative', 'positive', 'negative', 'neutral', 'negative', 'positive', 'neutral', 'positive', 'negative', 'neutral', 'neutral', 'positive', 'negative', 'positive', 'positive', 'negative', 'positive', 'positive', 'negative', 'neutral', 'neutral', 'negative', 'positive', 'neutral', 'neutral', 'neutral', 'positive', 'neutral', 'positive', 'neutral', 'negative', 'negative', 'neutral', 'positive', 'neutral', 'positive', 'positive', 'negative', 'positive', 'neutral', 'negative', 'positive', 'negative', 'positive', 'negative', 'neutral', 'positive', 'positive', 'negative', 'positive', 'negative', 'negative', 'neutral', 'negative', 'negative', 'neutral', 'neutral', 'negative', 'neutral', 'negative', 'negative', 'neutral', 'neutral', 'negative', 'positive', 'positive', 'neutral', 'neutral', 'neutral', 'negative', 'neutral', 'neutral', 'positive', 'neutral', 'positive', 'positive', 'neutral', 'negative', 'positive', 'negative', 'positive', 'negative', 'positive', 'negative', 'negative', 'negative', 'neutral', 'positive', 'negative', 'negative', 'neutral', 'neutral', 'neutral', 'neutral', 'positive', 'negative', 'neutral', 'positive', 'positive', 'neutral', 'negative', 'neutral', 'negative', 'neutral', 'neutral', 'positive', 'negative', 'positive', 'negative', 'positive', 'neutral', 'negative', 'negative', 'positive', 'negative', 'negative', 'negative', 'positive', 'neutral', 'negative', 'positive', 'positive', 'negative', 'neutral', 'positive', 'negative', 'negative', 'positive', 'neutral', 'positive', 'neutral', 'negative', 'neutral', 'positive', 'positive', 'positive', 'positive', 'positive', 'positive', 'neutral', 'neutral', 'negative', 'negative', 'negative', 'positive', 'positive', 'positive', 'negative', 'positive', 'neutral', 'positive', 'neutral', 'neutral', 'positive', 'negative', 'neutral', 'neutral', 'positive', 'negative', 'negative', 'positive', 'negative', 'positive', 'negative', 'negative', 'negative', 'negative', 'negative', 'positive', 'neutral', 'neutral', 'negative', 'positive', 'neutral', 'positive', 'negative', 'positive', 'negative', 'negative', 'negative', 'negative', 'positive', 'positive', 'neutral', 'negative', 'positive', 'negative', 'negative', 'neutral', 'neutral', 'positive', 'negative', 'positive', 'negative', 'positive', 'negative', 'negative', 'positive', 'positive', 'negative', 'neutral', 'negative', 'neutral', 'negative', 'negative', 'positive', 'negative', 'positive', 'positive', 'neutral', 'positive', 'neutral', 'positive', 'negative', 'negative', 'negative', 'negative', 'negative', 'negative', 'negative', 'positive', 'neutral', 'negative', 'positive', 'negative', 'neutral', 'positive', 'negative', 'negative', 'neutral', 'neutral', 'neutral', 'negative', 'negative', 'positive', 'positive', 'positive', 'neutral', 'positive', 'neutral', 'negative', 'negative', 'positive', 'neutral', 'negative', 'positive', 'positive', 'negative', 'neutral', 'positive', 'neutral', 'neutral', 'negative', 'negative', 'positive', 'negative', 'negative', 'negative', 'negative', 'neutral', 'negative', 'neutral', 'negative', 'positive', 'negative', 'positive', 'positive', 'negative', 'negative', 'positive', 'negative', 'neutral', 'positive', 'negative', 'negative', 'positive', 'negative', 'negative', 'negative', 'positive', 'negative', 'neutral', 'negative', 'negative', 'negative', 'neutral', 'positive', 'neutral', 'negative', 'negative', 'neutral', 'positive', 'negative', 'negative', 'positive', 'neutral', 'neutral', 'positive', 'neutral', 'neutral', 'positive', 'positive', 'neutral', 'positive', 'negative', 'neutral', 'neutral', 'negative', 'positive', 'neutral', 'neutral', 'positive', 'positive', 'negative', 'neutral', 'positive', 'positive', 'positive', 'neutral', 'negative', 'neutral', 'positive', 'negative', 'positive', 'negative', 'negative', 'negative', 'negative', 'negative', 'neutral', 'neutral', 'positive', 'neutral', 'negative', 'negative', 'positive', 'neutral', 'negative', 'neutral', 'negative', 'negative', 'negative', 'positive', 'neutral', 'positive', 'positive', 'positive', 'negative', 'neutral', 'negative', 'negative', 'neutral', 'neutral', 'positive', 'neutral', 'neutral', 'positive', 'negative', 'neutral', 'neutral', 'neutral', 'negative', 'neutral', 'positive', 'neutral', 'positive', 'neutral', 'negative', 'negative', 'positive', 'negative', 'neutral', 'negative', 'neutral', 'positive', 'neutral', 'neutral', 'positive', 'positive', 'positive', 'neutral', 'neutral', 'positive', 'positive', 'neutral', 'neutral', 'positive', 'neutral', 'neutral', 'neutral', 'positive', 'neutral', 'negative', 'negative', 'neutral', 'neutral', 'negative', 'positive', 'neutral', 'negative', 'positive', 'negative', 'negative', 'negative', 'neutral', 'positive', 'positive', 'neutral', 'positive', 'negative', 'positive', 'negative', 'neutral', 'negative', 'positive', 'neutral', 'positive', 'positive', 'neutral', 'positive', 'neutral', 'negative', 'neutral', 'negative', 'neutral', 'negative', 'negative', 'positive', 'positive', 'negative', 'positive', 'negative', 'neutral', 'negative', 'positive', 'neutral', 'negative', 'negative', 'positive', 'positive', 'neutral', 'neutral', 'neutral', 'negative', 'neutral', 'negative', 'negative', 'neutral', 'positive', 'negative', 'negative', 'neutral', 'negative', 'negative', 'neutral', 'negative', 'neutral', 'negative', 'neutral', 'neutral', 'negative', 'negative', 'neutral', 'negative', 'negative', 'neutral', 'negative', 'negative', 'positive', 'negative', 'positive', 'positive', 'neutral', 'negative', 'negative', 'positive', 'negative', 'neutral', 'negative', 'negative', 'neutral', 'positive', 'negative', 'neutral', 'positive', 'negative', 'neutral', 'positive', 'neutral', 'negative', 'neutral', 'positive', 'negative', 'positive', 'neutral', 'positive', 'negative', 'negative', 'positive', 'neutral', 'negative', 'positive', 'positive', 'positive', 'negative', 'positive', 'neutral', 'negative', 'neutral', 'neutral', 'negative', 'neutral', 'neutral', 'negative', 'positive', 'negative', 'negative', 'negative', 'positive', 'neutral', 'positive', 'positive', 'neutral', 'positive', 'negative', 'negative', 'neutral', 'positive', 'positive', 'positive', 'negative', 'neutral', 'negative', 'negative', 'neutral', 'negative', 'negative', 'neutral', 'neutral', 'positive', 'neutral', 'neutral', 'negative', 'positive', 'positive', 'negative', 'negative', 'negative', 'positive', 'negative', 'positive', 'neutral', 'negative', 'neutral', 'neutral', 'positive', 'positive', 'negative', 'negative', 'neutral', 'neutral', 'neutral', 'positive', 'neutral', 'positive', 'positive', 'negative', 'neutral', 'negative', 'positive', 'positive', 'negative', 'negative', 'negative', 'positive', 'neutral', 'positive', 'negative', 'positive', 'negative', 'neutral', 'positive', 'neutral', 'neutral', 'neutral', 'positive', 'negative', 'negative', 'positive', 'negative', 'positive', 'negative', 'negative', 'negative', 'positive', 'negative', 'positive', 'neutral', 'positive', 'negative', 'neutral', 'neutral', 'positive', 'neutral', 'neutral', 'neutral', 'negative', 'positive', 'negative', 'neutral', 'negative', 'neutral', 'neutral', 'positive', 'neutral', 'positive', 'positive', 'neutral', 'positive', 'negative', 'negative', 'negative', 'neutral', 'neutral', 'neutral', 'neutral', 'positive', 'neutral', 'positive', 'negative', 'neutral', 'positive', 'negative', 'positive', 'positive', 'negative', 'neutral', 'neutral', 'negative', 'neutral', 'neutral', 'neutral', 'positive', 'neutral', 'negative', 'positive', 'positive', 'negative', 'negative', 'neutral', 'neutral', 'positive', 'neutral', 'positive', 'positive', 'negative', 'neutral', 'positive', 'negative', 'negative', 'neutral', 'negative', 'neutral', 'negative', 'neutral', 'negative', 'negative', 'negative', 'positive', 'positive', 'neutral', 'negative', 'positive', 'positive', 'neutral', 'neutral', 'neutral', 'negative', 'neutral', 'negative', 'positive', 'positive', 'negative', 'positive', 'negative', 'negative', 'negative', 'negative', 'negative', 'positive', 'neutral', 'neutral', 'neutral', 'negative', 'negative', 'positive', 'neutral', 'negative', 'positive', 'neutral', 'neutral', 'negative', 'neutral', 'positive', 'negative', 'positive', 'neutral', 'negative', 'neutral', 'negative', 'neutral', 'negative', 'negative', 'positive', 'positive', 'neutral', 'neutral', 'neutral', 'negative', 'neutral', 'positive', 'negative', 'negative', 'negative', 'negative', 'neutral', 'negative', 'negative', 'neutral', 'neutral', 'negative', 'neutral', 'neutral', 'neutral', 'negative', 'negative', 'positive', 'neutral', 'negative', 'negative', 'positive', 'positive', 'negative', 'negative', 'negative', 'positive', 'negative', 'neutral', 'positive', 'negative', 'positive', 'negative', 'positive', 'negative', 'neutral', 'positive', 'negative', 'positive', 'negative', 'neutral', 'negative', 'neutral', 'positive', 'positive', 'negative', 'positive', 'negative', 'positive', 'neutral', 'neutral', 'neutral', 'positive', 'positive', 'positive', 'negative', 'neutral', 'neutral', 'neutral', 'neutral', 'negative', 'neutral', 'positive', 'negative', 'negative', 'negative', 'negative', 'positive', 'negative', 'negative', 'negative', 'neutral', 'neutral', 'positive', 'positive', 'positive', 'positive', 'neutral', 'negative', 'negative', 'negative', 'positive', 'neutral', 'neutral', 'positive', 'positive', 'positive', 'negative', 'negative', 'neutral', 'neutral', 'positive', 'neutral', 'negative', 'positive', 'neutral', 'positive', 'positive', 'negative', 'negative', 'negative', 'negative', 'negative', 'positive', 'neutral', 'positive', 'negative', 'positive', 'negative', 'positive', 'neutral', 'neutral', 'negative', 'negative', 'positive', 'positive', 'negative', 'neutral', 'negative', 'neutral', 'positive', 'negative', 'positive', 'negative', 'neutral', 'neutral', 'negative', 'neutral', 'neutral', 'negative', 'positive', 'negative', 'negative', 'negative', 'neutral', 'neutral', 'neutral', 'positive', 'negative', 'negative', 'positive', 'negative', 'negative', 'positive', 'positive', 'positive', 'positive', 'negative', 'neutral', 'positive', 'positive', 'negative', 'neutral', 'neutral', 'neutral', 'negative', 'negative', 'positive', 'negative', 'positive', 'negative', 'negative', 'negative', 'positive', 'neutral', 'neutral', 'negative', 'positive', 'neutral', 'positive', 'positive', 'negative', 'positive', 'neutral', 'positive', 'neutral', 'neutral', 'neutral', 'positive', 'negative', 'neutral', 'positive', 'neutral', 'positive', 'negative', 'positive', 'negative', 'negative', 'positive', 'neutral', 'neutral', 'negative', 'negative', 'positive', 'negative', 'positive', 'negative', 'neutral', 'positive', 'negative', 'negative', 'neutral', 'negative', 'neutral', 'neutral', 'neutral', 'positive', 'neutral', 'negative', 'neutral', 'negative', 'positive', 'neutral', 'neutral', 'negative', 'positive', 'neutral', 'neutral', 'negative', 'neutral', 'neutral', 'negative', 'neutral', 'negative', 'neutral', 'neutral', 'negative', 'neutral', 'positive', 'positive', 'negative', 'negative', 'positive', 'negative', 'negative', 'negative', 'neutral', 'neutral', 'neutral', 'negative', 'positive', 'positive', 'negative', 'negative', 'negative', 'negative', 'negative', 'positive', 'negative', 'neutral', 'positive', 'negative', 'negative', 'positive', 'negative', 'positive', 'negative', 'negative', 'negative', 'positive', 'positive', 'negative', 'negative', 'neutral', 'negative', 'negative', 'positive', 'neutral', 'neutral', 'positive', 'neutral', 'negative', 'neutral', 'positive', 'positive', 'negative', 'neutral', 'negative', 'positive', 'neutral', 'neutral', 'negative', 'positive', 'neutral', 'neutral', 'neutral', 'positive', 'positive', 'positive', 'neutral', 'negative', 'neutral', 'negative', 'positive', 'neutral', 'positive', 'negative', 'neutral', 'positive', 'positive', 'neutral', 'neutral', 'positive', 'neutral', 'positive', 'neutral', 'neutral', 'positive', 'negative', 'negative', 'negative', 'positive', 'neutral', 'positive', 'positive', 'negative', 'negative', 'positive', 'negative', 'positive', 'neutral', 'negative', 'positive', 'neutral', 'neutral', 'positive', 'neutral', 'neutral', 'positive', 'positive', 'negative', 'negative', 'positive', 'neutral', 'positive', 'neutral', 'positive', 'positive', 'neutral', 'negative', 'neutral', 'neutral', 'positive', 'negative', 'neutral', 'neutral', 'negative', 'neutral', 'neutral', 'neutral', 'neutral', 'neutral', 'negative', 'positive', 'positive', 'neutral', 'positive', 'positive', 'positive', 'positive', 'neutral', 'neutral', 'negative', 'neutral', 'positive', 'neutral', 'negative', 'positive', 'negative', 'negative', 'neutral', 'positive', 'neutral', 'negative', 'negative', 'positive', 'negative', 'positive', 'negative', 'positive', 'negative', 'negative', 'neutral', 'positive', 'neutral', 'neutral', 'negative', 'negative', 'neutral', 'positive', 'positive', 'positive', 'negative', 'neutral', 'positive', 'positive', 'positive', 'negative', 'positive', 'neutral', 'positive', 'positive', 'negative', 'negative', 'neutral', 'positive', 'negative', 'neutral', 'neutral', 'neutral', 'negative', 'positive', 'neutral', 'neutral', 'positive', 'positive', 'negative', 'negative', 'negative', 'negative', 'neutral', 'neutral', 'positive', 'positive', 'negative', 'neutral', 'negative', 'negative', 'neutral', 'positive', 'neutral', 'neutral', 'positive', 'neutral', 'neutral', 'neutral', 'positive', 'neutral', 'positive', 'neutral', 'positive', 'neutral', 'negative', 'neutral', 'negative', 'negative', 'neutral', 'neutral', 'positive', 'neutral', 'positive', 'positive', 'neutral', 'neutral', 'neutral', 'negative', 'negative', 'negative', 'neutral', 'negative', 'neutral', 'neutral', 'neutral', 'positive', 'negative', 'neutral', 'positive', 'neutral', 'negative', 'negative', 'positive', 'positive', 'neutral', 'neutral', 'negative', 'negative', 'negative', 'negative', 'neutral', 'negative', 'neutral', 'neutral', 'neutral', 'neutral', 'negative', 'neutral', 'negative', 'negative', 'positive', 'negative', 'positive', 'neutral', 'negative', 'negative', 'positive', 'positive', 'neutral', 'neutral', 'positive', 'negative', 'negative', 'positive', 'neutral', 'negative', 'negative', 'neutral', 'positive', 'negative', 'positive', 'neutral', 'negative', 'negative', 'positive', 'negative', 'positive', 'negative', 'negative', 'neutral', 'positive', 'negative', 'negative', 'negative', 'positive', 'negative', 'negative', 'neutral', 'neutral', 'positive', 'neutral', 'positive', 'negative', 'positive', 'negative', 'positive', 'neutral', 'negative', 'neutral', 'positive', 'neutral', 'positive', 'positive', 'neutral', 'negative', 'negative', 'negative', 'positive', 'positive', 'negative', 'negative', 'neutral', 'positive', 'neutral', 'negative', 'neutral', 'negative', 'negative', 'negative', 'negative', 'neutral', 'neutral', 'positive', 'positive', 'negative', 'neutral', 'neutral', 'negative', 'negative', 'neutral', 'positive', 'neutral', 'positive', 'neutral', 'positive', 'negative', 'positive', 'neutral', 'positive', 'positive', 'positive', 'positive', 'neutral', 'positive', 'positive', 'negative', 'neutral', 'positive', 'negative', 'neutral', 'neutral', 'negative', 'neutral', 'positive', 'positive', 'positive', 'negative', 'neutral', 'neutral', 'negative', 'neutral', 'neutral', 'negative', 'negative', 'positive', 'negative', 'negative', 'neutral', 'positive', 'positive', 'positive', 'positive', 'neutral', 'neutral', 'negative', 'positive', 'positive', 'negative', 'positive', 'negative', 'positive', 'neutral', 'negative', 'positive', 'positive', 'negative', 'neutral', 'negative', 'negative', 'positive', 'neutral', 'neutral', 'positive', 'positive', 'neutral', 'negative', 'positive', 'positive', 'neutral', 'negative', 'neutral', 'neutral', 'negative', 'neutral', 'positive', 'positive', 'neutral', 'negative', 'negative', 'negative', 'negative', 'negative', 'positive', 'positive', 'positive', 'positive', 'neutral', 'neutral', 'positive', 'neutral', 'neutral', 'negative', 'negative', 'negative', 'negative', 'positive', 'neutral', 'neutral', 'negative', 'negative', 'neutral', 'neutral', 'negative', 'neutral', 'negative', 'negative', 'negative', 'negative', 'negative', 'neutral', 'neutral', 'negative', 'neutral', 'positive', 'neutral', 'positive', 'neutral', 'neutral', 'neutral', 'neutral', 'neutral', 'neutral', 'positive', 'neutral', 'negative', 'positive', 'positive', 'positive', 'neutral', 'positive', 'negative', 'positive', 'negative', 'neutral', 'positive', 'negative', 'negative', 'negative', 'negative', 'negative', 'negative', 'negative', 'negative', 'negative', 'positive', 'negative', 'negative', 'neutral', 'negative', 'negative', 'positive', 'negative', 'negative', 'negative', 'negative', 'neutral', 'positive', 'neutral', 'neutral', 'negative', 'positive', 'positive', 'neutral', 'negative', 'negative', 'positive', 'neutral', 'neutral', 'positive', 'positive', 'neutral', 'positive', 'negative', 'positive', 'positive', 'negative', 'neutral', 'negative', 'negative', 'neutral', 'positive', 'positive', 'positive', 'negative', 'negative', 'negative', 'negative', 'negative', 'negative', 'neutral', 'positive', 'positive', 'neutral', 'negative', 'negative', 'positive', 'negative', 'neutral', 'positive', 'positive', 'positive', 'neutral', 'neutral', 'neutral', 'neutral', 'negative', 'positive', 'neutral', 'negative', 'neutral', 'neutral', 'neutral', 'negative', 'neutral', 'negative', 'positive', 'neutral', 'positive', 'neutral', 'negative', 'neutral', 'positive', 'negative', 'neutral', 'negative', 'positive', 'positive', 'positive', 'positive', 'neutral', 'neutral', 'negative', 'negative', 'positive', 'positive', 'neutral', 'neutral', 'positive', 'positive', 'negative', 'positive', 'positive', 'positive', 'negative', 'neutral', 'positive', 'negative', 'negative', 'neutral', 'negative', 'negative', 'negative', 'negative', 'neutral', 'negative', 'negative', 'negative', 'neutral', 'negative', 'neutral', 'negative', 'positive', 'neutral', 'neutral', 'negative', 'negative', 'positive', 'negative', 'negative', 'neutral', 'negative', 'neutral', 'positive', 'negative', 'positive', 'positive', 'neutral', 'neutral', 'positive', 'negative', 'neutral', 'neutral', 'positive', 'negative', 'neutral', 'negative', 'positive', 'negative', 'neutral', 'negative', 'negative', 'negative', 'neutral', 'negative', 'positive', 'negative', 'neutral', 'positive', 'negative', 'negative', 'positive', 'positive', 'negative', 'positive', 'positive', 'positive', 'positive', 'positive', 'positive', 'negative', 'negative', 'negative', 'neutral', 'positive', 'neutral', 'negative', 'neutral', 'negative', 'neutral', 'neutral', 'positive', 'neutral', 'positive', 'positive', 'positive', 'negative', 'negative', 'negative', 'negative', 'positive', 'positive', 'neutral', 'negative', 'positive', 'negative', 'neutral', 'positive', 'positive', 'negative', 'neutral', 'neutral', 'neutral', 'negative', 'positive', 'negative', 'negative', 'negative', 'positive', 'positive', 'positive', 'neutral', 'negative', 'positive', 'neutral', 'negative', 'negative', 'neutral', 'negative', 'negative', 'positive', 'neutral', 'positive', 'positive', 'positive', 'negative', 'negative', 'negative', 'neutral', 'neutral', 'negative', 'negative', 'positive', 'negative', 'positive', 'neutral', 'negative', 'neutral', 'neutral', 'negative', 'negative', 'positive', 'neutral', 'negative', 'neutral', 'negative', 'neutral', 'positive', 'positive', 'positive', 'negative', 'positive', 'positive', 'negative', 'negative', 'neutral', 'neutral', 'neutral', 'neutral', 'positive', 'neutral', 'positive', 'negative', 'neutral', 'positive', 'negative', 'negative', 'positive', 'positive', 'neutral', 'negative', 'neutral', 'negative', 'negative', 'negative', 'neutral', 'neutral', 'negative', 'negative', 'positive', 'negative', 'negative', 'positive', 'positive', 'neutral', 'positive', 'neutral', 'neutral', 'negative', 'negative', 'positive', 'negative', 'negative', 'positive', 'neutral', 'positive', 'positive', 'positive', 'neutral', 'positive', 'negative', 'negative', 'neutral', 'positive', 'positive', 'negative', 'negative', 'negative', 'negative', 'positive', 'positive', 'negative', 'negative', 'negative', 'negative', 'neutral', 'negative', 'neutral', 'neutral', 'positive', 'positive', 'neutral', 'negative', 'negative', 'positive', 'neutral', 'positive', 'positive', 'negative', 'neutral', 'negative', 'positive', 'negative', 'positive', 'positive', 'positive', 'neutral', 'negative', 'negative', 'neutral', 'positive', 'negative', 'negative', 'negative', 'negative', 'positive', 'neutral', 'positive', 'neutral', 'negative', 'neutral', 'positive', 'neutral', 'negative', 'negative', 'negative', 'neutral', 'negative', 'positive', 'negative', 'positive', 'negative', 'neutral', 'positive', 'neutral', 'positive', 'neutral', 'negative', 'positive', 'negative', 'negative', 'negative', 'neutral', 'negative', 'negative', 'neutral', 'positive', 'negative', 'negative', 'negative', 'neutral', 'neutral', 'neutral', 'neutral', 'neutral', 'neutral', 'positive', 'negative', 'neutral', 'negative', 'neutral', 'neutral', 'neutral', 'negative', 'negative', 'negative', 'negative', 'neutral', 'neutral', 'positive', 'negative', 'negative', 'positive', 'positive', 'neutral', 'negative', 'positive', 'negative', 'neutral', 'negative', 'negative', 'negative', 'neutral', 'negative', 'negative', 'negative', 'positive', 'negative', 'positive', 'positive', 'negative', 'neutral', 'neutral', 'positive', 'positive', 'neutral', 'positive', 'negative', 'positive', 'negative', 'positive', 'positive', 'negative', 'negative', 'neutral', 'neutral', 'negative', 'neutral', 'neutral', 'neutral', 'negative', 'neutral', 'positive', 'negative', 'positive', 'negative', 'negative', 'positive', 'neutral', 'negative', 'positive', 'negative', 'negative', 'neutral', 'positive', 'negative', 'neutral', 'positive', 'negative', 'positive', 'positive', 'neutral', 'negative', 'positive', 'positive', 'neutral', 'negative', 'positive', 'negative', 'neutral', 'neutral', 'neutral', 'neutral', 'neutral', 'negative', 'neutral', 'negative', 'positive', 'negative', 'neutral', 'negative', 'neutral', 'neutral', 'positive', 'neutral', 'negative', 'negative', 'negative', 'negative', 'positive', 'neutral', 'positive', 'neutral', 'positive', 'positive', 'negative', 'negative', 'neutral', 'negative', 'negative', 'neutral', 'neutral', 'neutral', 'neutral', 'neutral', 'negative', 'negative', 'neutral', 'negative', 'positive', 'negative', 'neutral', 'negative', 'positive', 'negative', 'negative', 'positive', 'negative', 'neutral', 'neutral', 'positive', 'neutral', 'neutral', 'neutral', 'neutral', 'negative', 'negative', 'neutral', 'neutral', 'neutral', 'neutral', 'neutral', 'positive', 'negative', 'negative', 'positive', 'positive', 'positive', 'positive', 'negative', 'neutral', 'negative', 'positive', 'negative', 'positive', 'negative', 'positive', 'neutral', 'neutral', 'neutral', 'neutral', 'neutral', 'neutral', 'positive', 'neutral', 'negative', 'negative', 'negative', 'neutral', 'positive', 'neutral', 'positive', 'neutral', 'neutral', 'negative', 'negative', 'negative', 'neutral', 'positive', 'neutral', 'negative', 'neutral', 'negative', 'positive', 'neutral', 'positive', 'negative', 'neutral', 'neutral', 'positive', 'negative', 'neutral', 'neutral', 'positive', 'positive', 'negative', 'positive', 'neutral', 'negative', 'negative', 'negative', 'neutral', 'positive', 'neutral', 'negative', 'negative', 'negative', 'negative', 'negative', 'neutral', 'neutral', 'positive', 'negative', 'positive', 'negative', 'negative', 'negative', 'negative', 'negative', 'positive', 'negative', 'negative', 'positive', 'neutral', 'positive', 'neutral', 'positive', 'negative', 'neutral', 'neutral', 'neutral', 'neutral', 'negative', 'positive', 'negative', 'positive', 'neutral', 'neutral', 'neutral', 'neutral', 'positive', 'negative', 'negative', 'neutral', 'negative', 'neutral', 'negative', 'positive', 'negative', 'negative', 'positive', 'negative', 'positive', 'positive', 'neutral', 'negative', 'neutral', 'neutral', 'negative', 'negative', 'negative', 'negative', 'neutral', 'positive', 'neutral', 'positive', 'positive', 'negative', 'positive', 'neutral', 'positive', 'positive', 'neutral', 'negative', 'neutral', 'positive', 'negative', 'positive', 'negative', 'neutral', 'negative', 'neutral', 'neutral', 'negative', 'positive', 'negative', 'neutral', 'positive', 'neutral', 'positive', 'positive', 'neutral', 'negative', 'neutral', 'positive', 'neutral', 'positive', 'negative', 'negative', 'negative', 'positive', 'positive', 'positive', 'negative', 'negative', 'negative', 'positive', 'neutral', 'negative', 'neutral', 'neutral', 'positive', 'neutral', 'negative', 'positive', 'negative', 'negative', 'neutral', 'positive', 'negative', 'negative', 'neutral', 'neutral', 'neutral', 'negative', 'neutral', 'positive', 'negative', 'negative', 'positive', 'neutral', 'negative', 'negative', 'neutral', 'neutral', 'positive', 'positive', 'neutral', 'negative', 'negative', 'negative', 'negative', 'positive', 'negative', 'negative', 'neutral', 'neutral', 'negative', 'neutral', 'negative', 'negative', 'negative', 'neutral', 'neutral', 'neutral', 'neutral', 'negative', 'neutral', 'negative', 'negative', 'positive', 'negative', 'neutral', 'neutral', 'negative', 'positive', 'neutral', 'negative', 'negative', 'neutral', 'negative', 'neutral', 'negative', 'neutral', 'neutral', 'neutral', 'neutral', 'positive', 'positive', 'negative', 'neutral', 'negative', 'negative', 'neutral', 'negative', 'neutral', 'negative', 'positive', 'positive', 'neutral', 'negative', 'positive', 'negative', 'negative', 'negative', 'negative', 'negative', 'neutral', 'negative', 'neutral', 'neutral', 'negative', 'neutral', 'positive', 'negative', 'positive', 'positive', 'positive', 'positive', 'neutral', 'neutral', 'neutral', 'neutral', 'neutral', 'negative', 'neutral', 'negative', 'positive', 'negative', 'negative', 'negative', 'neutral', 'neutral', 'positive', 'positive', 'negative', 'neutral', 'neutral', 'negative', 'negative', 'negative', 'negative', 'negative', 'positive', 'positive', 'negative', 'positive', 'neutral', 'positive', 'positive', 'negative', 'positive', 'negative', 'positive', 'negative', 'negative', 'positive', 'neutral', 'positive', 'neutral', 'positive', 'neutral', 'negative', 'positive', 'positive', 'positive', 'neutral', 'positive', 'negative', 'neutral', 'positive', 'neutral', 'negative', 'negative', 'positive', 'positive', 'negative', 'neutral', 'negative', 'negative', 'positive', 'positive', 'negative', 'negative', 'neutral', 'neutral', 'positive', 'positive', 'negative', 'positive', 'neutral', 'neutral', 'positive', 'positive', 'neutral', 'positive', 'negative', 'neutral', 'positive', 'positive', 'neutral', 'negative', 'negative', 'negative', 'negative', 'positive', 'negative', 'neutral', 'neutral', 'neutral', 'negative', 'positive', 'negative', 'positive', 'neutral', 'positive', 'negative', 'neutral', 'negative', 'negative', 'neutral', 'neutral', 'neutral', 'positive', 'negative', 'positive', 'negative', 'neutral', 'positive', 'neutral', 'positive', 'negative', 'negative', 'neutral', 'negative', 'positive', 'negative', 'negative', 'neutral', 'positive', 'positive', 'positive', 'negative', 'positive', 'negative', 'negative', 'neutral', 'negative', 'neutral', 'negative', 'positive', 'positive', 'positive', 'negative', 'negative', 'neutral', 'neutral', 'negative', 'negative', 'negative', 'negative', 'negative', 'negative', 'negative', 'neutral', 'neutral', 'neutral', 'negative', 'positive', 'negative', 'negative', 'negative', 'neutral', 'positive', 'neutral', 'positive', 'neutral', 'positive', 'positive', 'neutral', 'positive', 'neutral', 'neutral', 'negative', 'positive', 'positive', 'negative', 'positive', 'negative', 'negative', 'negative', 'negative', 'negative', 'neutral', 'positive', 'negative', 'positive', 'positive', 'negative', 'negative', 'positive', 'neutral', 'positive', 'negative', 'neutral', 'neutral', 'neutral', 'negative', 'negative', 'neutral', 'positive', 'negative', 'negative', 'neutral', 'negative', 'negative', 'negative', 'positive', 'neutral', 'neutral', 'neutral', 'negative', 'neutral', 'negative', 'negative', 'negative', 'negative', 'positive', 'positive', 'positive', 'negative', 'positive', 'positive', 'positive', 'negative', 'positive', 'neutral', 'neutral', 'positive', 'positive', 'positive', 'negative', 'positive', 'positive', 'positive', 'neutral', 'negative', 'positive', 'negative', 'negative', 'neutral', 'neutral', 'positive', 'neutral', 'negative', 'positive', 'neutral', 'positive', 'positive', 'neutral', 'negative', 'neutral', 'negative', 'negative', 'negative', 'positive', 'neutral', 'positive', 'negative', 'positive', 'positive', 'neutral', 'neutral', 'negative', 'positive', 'negative', 'negative', 'negative', 'negative', 'negative', 'negative', 'neutral', 'negative', 'neutral', 'neutral', 'negative', 'positive', 'positive', 'positive', 'neutral', 'positive', 'neutral', 'negative', 'positive', 'positive', 'neutral', 'negative', 'negative', 'negative', 'neutral', 'positive', 'negative', 'neutral', 'positive', 'positive', 'negative', 'negative', 'neutral', 'positive', 'negative', 'positive', 'negative', 'negative', 'neutral', 'negative', 'negative', 'negative', 'neutral', 'positive', 'positive', 'negative', 'positive', 'positive', 'neutral', 'neutral', 'positive', 'neutral', 'neutral', 'positive', 'negative', 'positive', 'neutral', 'positive', 'negative', 'positive', 'negative', 'negative', 'positive', 'positive', 'positive', 'negative', 'neutral', 'negative', 'negative', 'negative', 'negative', 'negative', 'neutral', 'negative', 'negative', 'neutral', 'positive', 'positive', 'negative', 'neutral', 'positive', 'positive', 'negative', 'neutral', 'neutral', 'positive', 'negative', 'positive', 'positive', 'negative', 'negative', 'negative', 'neutral', 'positive', 'neutral', 'negative', 'positive', 'negative', 'neutral', 'negative', 'negative', 'negative', 'neutral', 'neutral', 'neutral', 'neutral', 'positive', 'positive', 'negative', 'positive', 'negative', 'negative', 'positive', 'negative', 'neutral', 'positive', 'neutral', 'positive', 'negative', 'positive', 'negative', 'positive', 'positive', 'negative', 'neutral', 'neutral', 'negative', 'positive', 'neutral', 'negative', 'negative', 'positive', 'positive', 'neutral', 'neutral', 'positive', 'neutral', 'negative', 'positive', 'positive', 'neutral', 'positive', 'positive', 'neutral', 'negative', 'neutral', 'positive', 'negative', 'negative', 'negative', 'negative', 'neutral', 'negative', 'neutral', 'neutral', 'neutral', 'negative', 'positive', 'neutral', 'neutral', 'negative', 'positive', 'negative', 'neutral', 'positive', 'negative', 'negative', 'neutral', 'negative', 'neutral', 'positive', 'neutral', 'positive', 'neutral', 'neutral', 'positive', 'positive', 'positive', 'negative', 'neutral', 'positive', 'positive', 'neutral', 'positive', 'negative', 'positive', 'neutral', 'positive', 'negative', 'negative', 'negative', 'positive', 'positive', 'positive', 'neutral', 'neutral', 'negative', 'negative', 'positive', 'negative', 'neutral', 'negative', 'negative', 'positive', 'neutral', 'neutral', 'neutral', 'positive', 'negative', 'negative', 'neutral', 'positive', 'positive', 'positive', 'negative', 'negative', 'negative', 'negative', 'positive', 'positive', 'negative', 'negative', 'positive', 'negative', 'neutral', 'neutral', 'positive', 'negative', 'negative', 'neutral', 'positive', 'positive', 'neutral', 'negative', 'negative', 'neutral', 'negative', 'neutral', 'negative', 'negative', 'neutral', 'positive', 'negative', 'negative', 'neutral', 'positive', 'neutral', 'positive', 'negative', 'positive', 'positive', 'negative', 'negative', 'negative', 'positive', 'negative', 'negative', 'neutral', 'negative', 'negative', 'negative', 'neutral', 'positive', 'neutral', 'positive', 'negative', 'negative', 'negative', 'negative', 'positive', 'positive', 'positive', 'positive', 'negative', 'negative', 'negative', 'neutral', 'negative', 'neutral', 'neutral', 'neutral', 'neutral', 'positive', 'positive', 'positive', 'neutral', 'neutral', 'negative', 'neutral', 'positive', 'neutral', 'neutral', 'neutral', 'positive', 'positive', 'positive', 'positive', 'neutral', 'positive', 'negative', 'positive', 'negative', 'neutral', 'positive', 'neutral', 'positive', 'neutral', 'negative', 'neutral', 'neutral', 'neutral', 'positive', 'positive', 'negative', 'neutral', 'positive', 'negative', 'negative', 'negative', 'negative', 'positive', 'positive', 'negative', 'positive', 'neutral', 'neutral', 'positive', 'neutral', 'positive', 'negative', 'negative', 'negative', 'negative', 'neutral', 'negative', 'neutral', 'neutral', 'positive', 'positive', 'neutral', 'positive', 'negative', 'neutral', 'negative', 'neutral', 'positive', 'negative', 'positive', 'positive', 'negative', 'neutral', 'negative', 'negative', 'neutral', 'neutral', 'positive', 'negative', 'negative', 'positive', 'negative', 'neutral', 'positive', 'negative', 'neutral', 'positive', 'neutral', 'negative', 'positive', 'positive', 'negative', 'neutral', 'positive', 'neutral', 'neutral', 'positive', 'neutral', 'negative', 'neutral', 'neutral', 'negative', 'positive', 'positive', 'positive', 'positive', 'positive', 'neutral', 'positive', 'positive', 'negative', 'neutral', 'neutral', 'negative', 'negative', 'negative', 'positive', 'positive', 'positive', 'positive', 'neutral', 'neutral', 'negative', 'neutral', 'neutral', 'negative', 'neutral', 'positive', 'positive', 'neutral', 'positive', 'positive', 'neutral', 'positive', 'positive', 'neutral', 'neutral', 'positive', 'negative', 'neutral', 'positive', 'neutral', 'negative', 'neutral', 'neutral', 'neutral', 'neutral', 'positive', 'negative', 'neutral', 'neutral', 'neutral', 'neutral', 'neutral', 'negative', 'positive', 'neutral', 'negative', 'negative', 'positive', 'negative', 'neutral', 'negative', 'negative', 'positive', 'neutral', 'negative', 'negative', 'negative', 'positive', 'negative', 'positive', 'neutral', 'negative', 'positive', 'positive', 'negative', 'negative', 'positive', 'positive', 'neutral', 'positive', 'positive', 'negative', 'neutral', 'neutral', 'positive', 'positive', 'neutral', 'neutral', 'neutral', 'positive', 'positive', 'negative', 'neutral', 'positive', 'neutral', 'negative', 'positive', 'neutral', 'positive', 'negative', 'positive', 'positive', 'positive', 'positive', 'neutral', 'positive', 'negative', 'neutral', 'positive', 'negative', 'neutral', 'negative', 'negative', 'neutral', 'negative', 'neutral', 'negative', 'neutral', 'negative', 'negative', 'negative', 'positive', 'neutral', 'negative', 'positive', 'negative', 'positive', 'neutral', 'negative', 'negative', 'negative', 'positive', 'neutral', 'neutral', 'neutral', 'positive', 'negative', 'positive', 'neutral', 'positive', 'neutral', 'negative', 'negative', 'positive', 'neutral', 'negative', 'neutral', 'positive', 'neutral', 'negative', 'positive', 'positive', 'negative', 'neutral', 'negative', 'negative', 'neutral', 'neutral', 'neutral', 'positive', 'negative', 'neutral', 'negative', 'negative', 'positive', 'positive', 'negative', 'negative', 'neutral', 'positive', 'neutral', 'positive', 'negative', 'negative', 'neutral', 'neutral', 'neutral', 'neutral', 'negative', 'negative', 'positive', 'negative', 'negative', 'negative', 'neutral', 'negative', 'negative', 'neutral', 'neutral', 'negative', 'positive', 'positive', 'positive', 'neutral', 'negative', 'positive', 'neutral', 'positive', 'negative', 'positive', 'negative', 'neutral', 'neutral', 'positive', 'positive', 'neutral', 'neutral', 'positive', 'negative', 'neutral', 'negative', 'positive', 'positive', 'negative', 'positive', 'positive', 'negative', 'neutral', 'negative', 'neutral', 'neutral', 'negative', 'positive', 'negative', 'negative', 'positive', 'neutral', 'negative', 'neutral', 'positive', 'positive', 'negative', 'negative', 'neutral', 'positive', 'neutral', 'negative', 'neutral', 'negative', 'neutral', 'negative', 'negative', 'neutral', 'positive', 'negative', 'neutral', 'positive', 'positive', 'neutral', 'negative', 'positive', 'positive', 'positive', 'negative', 'neutral', 'neutral', 'negative', 'positive', 'neutral', 'negative', 'neutral', 'negative', 'negative', 'negative', 'negative', 'positive', 'neutral', 'positive', 'positive', 'negative', 'positive', 'negative', 'positive', 'neutral', 'negative', 'positive', 'neutral', 'positive', 'positive', 'neutral', 'positive', 'neutral', 'neutral', 'neutral', 'neutral', 'positive', 'neutral', 'positive', 'neutral', 'negative', 'positive', 'negative', 'negative', 'positive', 'negative', 'positive', 'positive', 'neutral', 'neutral', 'neutral', 'negative', 'neutral', 'negative', 'neutral', 'positive', 'negative', 'neutral', 'negative', 'negative', 'negative', 'neutral', 'negative', 'negative', 'positive', 'neutral', 'neutral', 'positive', 'positive', 'negative', 'positive', 'negative', 'negative', 'negative', 'neutral', 'neutral', 'positive', 'neutral', 'neutral', 'neutral', 'positive', 'positive', 'negative', 'negative', 'positive', 'negative', 'positive', 'negative', 'positive', 'positive', 'neutral', 'negative', 'neutral', 'positive', 'negative', 'negative', 'positive', 'positive', 'negative', 'neutral', 'neutral', 'neutral', 'positive', 'positive', 'neutral', 'positive', 'negative', 'neutral', 'negative', 'positive', 'positive', 'neutral', 'negative', 'neutral', 'neutral', 'neutral', 'positive', 'neutral', 'neutral', 'negative', 'neutral', 'neutral', 'positive', 'positive', 'negative', 'negative', 'negative', 'negative', 'neutral', 'positive', 'neutral', 'positive', 'neutral', 'neutral', 'neutral', 'negative', 'negative', 'neutral', 'negative', 'positive', 'positive', 'neutral', 'positive', 'positive', 'negative', 'negative', 'negative', 'negative', 'positive', 'negative', 'positive', 'positive', 'negative', 'neutral', 'negative', 'negative', 'neutral', 'negative', 'neutral', 'negative', 'negative', 'neutral', 'positive', 'neutral', 'neutral', 'positive', 'negative', 'neutral', 'positive', 'negative', 'negative', 'negative', 'positive', 'positive', 'positive', 'positive', 'positive', 'positive', 'neutral', 'negative', 'positive', 'positive', 'neutral', 'negative', 'negative', 'negative', 'neutral', 'positive', 'negative', 'negative', 'positive', 'neutral', 'negative', 'negative', 'positive', 'positive', 'positive', 'negative', 'neutral', 'neutral', 'negative', 'neutral', 'negative', 'positive', 'negative', 'negative', 'neutral', 'negative', 'neutral', 'neutral', 'neutral', 'neutral', 'positive', 'negative', 'positive', 'positive', 'positive', 'positive', 'negative', 'neutral', 'negative', 'negative', 'positive', 'neutral', 'neutral', 'positive', 'positive', 'negative', 'neutral', 'neutral', 'negative', 'neutral', 'positive', 'positive', 'positive', 'negative', 'positive', 'negative', 'neutral', 'neutral', 'neutral', 'neutral', 'positive', 'positive', 'neutral', 'negative', 'negative', 'negative', 'negative', 'negative', 'negative', 'neutral', 'neutral', 'negative', 'positive', 'negative', 'neutral', 'positive', 'positive', 'negative', 'negative', 'negative', 'neutral', 'negative', 'neutral', 'neutral', 'positive', 'negative', 'neutral', 'neutral', 'negative', 'negative', 'neutral', 'neutral', 'positive', 'negative', 'negative', 'neutral', 'neutral', 'positive', 'positive', 'positive', 'positive', 'positive', 'positive', 'positive', 'positive', 'neutral', 'positive', 'positive', 'positive', 'positive', 'neutral', 'positive', 'negative', 'neutral', 'positive', 'negative', 'neutral', 'neutral', 'neutral', 'negative', 'negative', 'neutral', 'negative', 'negative', 'negative', 'neutral', 'positive', 'positive', 'neutral', 'negative', 'positive', 'neutral', 'negative', 'positive', 'neutral', 'negative', 'positive', 'neutral', 'neutral', 'neutral', 'positive', 'neutral', 'positive', 'negative', 'neutral', 'negative', 'negative', 'neutral', 'negative', 'positive', 'negative', 'positive', 'negative', 'neutral', 'positive', 'positive', 'negative', 'negative', 'neutral', 'neutral', 'neutral', 'positive', 'positive', 'neutral', 'positive', 'neutral', 'negative', 'positive', 'negative', 'negative', 'negative', 'positive', 'positive', 'positive', 'negative', 'negative', 'neutral', 'positive', 'neutral', 'negative', 'negative', 'neutral', 'positive', 'neutral', 'positive', 'positive', 'negative', 'neutral', 'negative', 'negative', 'neutral', 'neutral', 'positive', 'positive', 'negative', 'neutral', 'negative', 'positive', 'negative', 'negative', 'negative', 'neutral', 'negative', 'positive', 'neutral', 'positive', 'negative', 'negative', 'neutral', 'negative', 'negative', 'negative', 'positive', 'positive', 'negative', 'positive', 'negative', 'negative', 'negative', 'positive', 'positive', 'negative', 'negative', 'neutral', 'positive', 'negative', 'neutral', 'negative', 'negative', 'neutral', 'positive', 'negative', 'positive', 'negative', 'positive', 'neutral', 'negative', 'neutral', 'positive', 'negative', 'negative', 'neutral', 'negative', 'negative', 'neutral', 'positive', 'positive', 'neutral', 'negative', 'positive', 'neutral', 'negative', 'negative', 'positive', 'negative', 'positive', 'negative', 'negative', 'negative', 'positive', 'negative', 'negative', 'negative', 'negative', 'neutral', 'negative', 'neutral', 'negative', 'positive', 'neutral', 'neutral', 'neutral', 'positive', 'neutral', 'positive', 'negative', 'positive', 'negative', 'positive', 'positive', 'neutral', 'neutral', 'neutral', 'negative', 'neutral', 'negative', 'neutral', 'negative', 'positive', 'negative', 'positive', 'positive', 'negative', 'neutral', 'positive', 'positive', 'positive', 'neutral', 'neutral', 'negative', 'neutral', 'neutral', 'neutral', 'neutral', 'neutral', 'positive', 'neutral', 'negative', 'negative', 'negative', 'neutral', 'neutral', 'positive', 'positive', 'positive', 'positive', 'neutral', 'positive', 'positive', 'negative', 'negative', 'neutral', 'negative', 'positive', 'neutral', 'negative', 'positive', 'positive', 'neutral', 'negative', 'negative', 'negative', 'positive', 'neutral', 'neutral', 'neutral', 'neutral', 'neutral', 'negative', 'positive', 'negative', 'neutral', 'neutral', 'negative', 'negative', 'neutral', 'positive', 'positive', 'positive', 'neutral', 'positive', 'positive', 'negative', 'positive', 'positive', 'neutral', 'neutral', 'neutral', 'neutral', 'negative', 'neutral', 'negative', 'neutral', 'positive', 'positive', 'positive', 'positive', 'neutral', 'negative', 'negative', 'positive', 'positive', 'negative', 'negative', 'positive', 'negative', 'negative', 'neutral', 'negative', 'neutral', 'neutral', 'neutral', 'positive', 'positive', 'positive', 'negative', 'negative', 'neutral', 'negative', 'positive', 'neutral', 'neutral', 'positive', 'neutral', 'negative', 'positive', 'negative', 'positive', 'positive', 'negative', 'positive', 'negative', 'neutral', 'negative', 'negative', 'negative', 'neutral', 'neutral', 'negative', 'negative', 'negative', 'positive', 'positive', 'neutral', 'neutral', 'positive', 'positive', 'negative', 'negative', 'neutral', 'positive', 'positive', 'positive', 'positive', 'negative', 'negative', 'positive', 'positive', 'neutral', 'negative', 'negative', 'negative', 'negative', 'negative', 'negative', 'positive', 'positive', 'neutral', 'neutral', 'negative', 'negative', 'neutral', 'neutral', 'neutral', 'neutral', 'positive', 'negative', 'neutral', 'neutral', 'negative', 'negative', 'negative', 'neutral', 'positive', 'positive', 'positive', 'negative', 'negative', 'neutral', 'negative', 'positive', 'positive', 'negative', 'neutral', 'negative', 'negative', 'neutral', 'negative', 'positive', 'positive', 'neutral', 'neutral', 'positive', 'neutral', 'negative', 'positive', 'negative', 'negative', 'positive', 'positive', 'positive', 'neutral', 'negative', 'negative', 'negative', 'positive', 'neutral', 'neutral', 'negative', 'neutral', 'positive', 'negative', 'neutral', 'negative', 'negative', 'negative', 'positive', 'positive', 'positive', 'negative', 'neutral', 'neutral', 'positive', 'positive', 'neutral', 'neutral', 'neutral', 'positive', 'positive', 'neutral', 'positive', 'positive', 'negative', 'neutral', 'negative', 'negative', 'negative', 'negative', 'negative', 'positive', 'neutral', 'neutral', 'negative', 'neutral', 'negative', 'neutral', 'neutral', 'negative', 'negative', 'positive', 'negative', 'positive', 'positive', 'neutral', 'negative', 'positive', 'positive', 'negative', 'neutral', 'neutral', 'positive', 'neutral', 'neutral', 'positive', 'negative', 'negative', 'positive', 'neutral', 'negative', 'positive', 'neutral', 'neutral', 'neutral', 'neutral', 'negative', 'negative', 'positive', 'positive', 'negative', 'neutral', 'positive', 'negative', 'negative', 'positive', 'positive', 'negative', 'positive', 'negative', 'positive', 'negative', 'negative', 'neutral', 'neutral', 'negative', 'negative', 'positive', 'positive', 'positive', 'positive', 'negative', 'neutral', 'neutral', 'positive', 'negative', 'positive', 'positive', 'negative', 'positive', 'neutral', 'positive', 'neutral', 'positive', 'negative', 'positive', 'negative', 'positive', 'positive', 'positive', 'neutral', 'positive', 'neutral', 'positive', 'positive', 'positive', 'negative', 'positive', 'neutral', 'neutral', 'negative', 'negative', 'neutral', 'negative', 'positive', 'positive', 'negative', 'neutral', 'positive', 'positive', 'neutral', 'positive', 'positive', 'neutral', 'neutral', 'positive', 'negative', 'positive', 'positive', 'neutral', 'positive', 'positive', 'neutral', 'negative', 'negative', 'neutral', 'negative', 'positive', 'neutral', 'negative', 'negative', 'neutral', 'neutral', 'negative', 'positive', 'positive', 'negative', 'positive', 'positive', 'neutral', 'positive', 'positive', 'neutral', 'neutral', 'positive', 'neutral', 'negative', 'positive', 'positive', 'positive', 'positive', 'neutral', 'negative', 'neutral', 'positive', 'negative', 'positive', 'negative', 'neutral', 'negative', 'neutral', 'negative', 'neutral', 'neutral', 'neutral', 'neutral', 'negative', 'negative', 'positive', 'neutral', 'negative', 'positive', 'positive', 'positive', 'neutral', 'neutral', 'neutral', 'negative', 'positive', 'negative', 'positive', 'negative', 'neutral', 'neutral', 'neutral', 'negative', 'negative', 'neutral', 'positive', 'neutral', 'neutral', 'positive', 'negative', 'negative', 'neutral', 'positive', 'neutral', 'negative', 'positive', 'negative', 'negative', 'neutral', 'neutral', 'positive', 'positive', 'positive', 'negative', 'negative', 'positive', 'positive', 'neutral', 'positive', 'negative', 'positive', 'neutral', 'neutral', 'negative', 'negative', 'positive', 'neutral', 'negative', 'negative', 'positive', 'neutral', 'neutral', 'negative', 'neutral', 'neutral', 'positive', 'positive', 'negative', 'positive', 'positive', 'positive', 'neutral', 'positive', 'negative', 'positive', 'negative', 'neutral', 'neutral', 'neutral', 'negative', 'negative', 'negative', 'positive', 'positive', 'positive', 'negative', 'positive', 'negative', 'neutral', 'negative', 'positive', 'positive', 'neutral', 'neutral', 'neutral', 'neutral', 'negative', 'positive', 'neutral', 'neutral', 'negative', 'neutral', 'positive', 'neutral', 'neutral', 'positive', 'neutral', 'neutral', 'positive', 'negative', 'positive', 'negative', 'positive', 'neutral', 'neutral', 'positive', 'negative', 'positive', 'negative', 'positive', 'neutral', 'neutral', 'positive', 'negative', 'negative', 'negative', 'positive', 'negative', 'negative', 'positive', 'negative', 'negative', 'neutral', 'positive', 'positive', 'negative', 'positive', 'positive', 'positive', 'negative', 'positive', 'positive', 'neutral', 'neutral', 'neutral', 'neutral', 'negative', 'negative', 'positive', 'neutral', 'negative', 'neutral', 'neutral', 'neutral', 'positive', 'neutral', 'positive', 'positive', 'positive', 'neutral', 'neutral', 'negative', 'positive', 'positive', 'positive', 'positive', 'negative', 'neutral', 'positive', 'neutral', 'negative', 'neutral', 'negative', 'neutral', 'positive', 'negative', 'positive', 'negative', 'positive', 'negative', 'negative', 'negative', 'negative', 'neutral', 'negative', 'positive', 'neutral', 'negative', 'positive', 'negative', 'neutral', 'negative', 'negative', 'positive', 'positive', 'negative', 'positive', 'positive', 'negative', 'negative', 'negative', 'negative', 'negative', 'negative', 'neutral', 'positive', 'negative', 'negative', 'positive', 'negative', 'positive', 'positive', 'negative', 'positive', 'negative', 'positive', 'negative', 'neutral', 'negative', 'positive', 'neutral', 'positive', 'positive', 'neutral', 'positive', 'negative', 'negative', 'positive', 'neutral', 'negative', 'negative', 'neutral', 'positive', 'positive', 'negative', 'negative', 'neutral', 'neutral', 'negative', 'negative', 'negative', 'negative', 'neutral', 'neutral', 'positive', 'positive', 'neutral', 'positive', 'positive', 'negative', 'neutral', 'neutral', 'positive', 'negative', 'negative', 'neutral', 'positive', 'negative', 'negative', 'negative', 'neutral', 'positive', 'negative', 'negative', 'negative', 'positive', 'neutral', 'negative', 'positive', 'neutral', 'neutral', 'neutral', 'negative', 'neutral', 'negative', 'neutral', 'neutral', 'neutral', 'neutral', 'negative', 'negative', 'negative', 'negative', 'neutral', 'neutral', 'positive', 'neutral', 'negative', 'positive', 'positive', 'neutral', 'positive', 'neutral', 'positive', 'neutral', 'negative', 'negative', 'positive', 'neutral', 'positive', 'neutral', 'negative', 'positive', 'positive', 'neutral', 'neutral', 'negative', 'positive', 'positive', 'negative', 'negative', 'negative', 'positive', 'positive', 'positive', 'neutral', 'neutral', 'positive', 'neutral', 'neutral', 'neutral', 'positive', 'neutral', 'positive', 'positive', 'negative', 'negative', 'positive', 'negative', 'neutral', 'negative', 'neutral', 'negative', 'negative', 'negative', 'positive', 'positive', 'negative', 'negative', 'positive', 'neutral', 'neutral', 'positive', 'neutral', 'neutral', 'positive', 'neutral', 'negative', 'positive', 'neutral', 'positive', 'negative', 'neutral', 'neutral', 'neutral', 'positive', 'negative', 'positive', 'positive', 'neutral', 'negative', 'positive', 'negative', 'negative', 'neutral', 'negative', 'positive', 'negative', 'neutral', 'neutral', 'positive', 'negative', 'positive', 'positive', 'negative', 'neutral', 'positive', 'neutral', 'positive', 'negative', 'neutral', 'negative', 'negative', 'negative', 'neutral', 'positive', 'positive', 'negative', 'positive', 'negative', 'neutral', 'positive', 'negative', 'neutral', 'positive', 'negative', 'positive', 'neutral', 'positive', 'negative', 'positive', 'negative', 'negative', 'positive', 'negative', 'positive', 'negative', 'negative', 'neutral', 'neutral', 'neutral', 'neutral', 'negative', 'neutral', 'negative', 'neutral', 'neutral', 'negative', 'positive', 'negative', 'negative', 'negative', 'negative', 'negative', 'positive', 'negative', 'positive', 'negative', 'neutral', 'positive', 'positive', 'negative', 'negative', 'negative', 'positive', 'negative', 'positive', 'positive', 'positive', 'positive', 'positive', 'positive', 'positive', 'neutral', 'negative', 'neutral', 'positive', 'negative', 'positive', 'neutral', 'neutral', 'negative', 'positive', 'negative', 'positive', 'neutral', 'negative', 'positive', 'negative', 'neutral', 'neutral', 'negative', 'negative', 'negative', 'negative', 'neutral', 'positive', 'neutral', 'neutral', 'neutral', 'negative', 'negative', 'positive', 'positive', 'positive', 'neutral', 'neutral', 'negative', 'positive', 'positive', 'neutral', 'positive', 'negative', 'neutral', 'neutral', 'negative', 'positive', 'negative', 'neutral', 'negative', 'positive', 'positive', 'negative', 'positive', 'negative', 'neutral', 'neutral', 'positive', 'positive', 'negative', 'neutral', 'neutral', 'positive', 'negative', 'negative', 'neutral', 'neutral', 'positive', 'positive', 'positive', 'negative', 'positive', 'neutral', 'negative', 'negative', 'neutral', 'negative', 'neutral', 'negative', 'neutral', 'negative', 'neutral', 'neutral', 'negative', 'neutral', 'neutral', 'negative', 'negative', 'negative', 'negative', 'neutral', 'neutral', 'negative', 'negative', 'neutral', 'positive', 'neutral', 'neutral', 'positive', 'neutral', 'negative', 'negative', 'positive', 'neutral', 'neutral', 'positive', 'negative', 'negative', 'negative', 'neutral', 'neutral', 'negative', 'negative', 'negative', 'negative', 'neutral', 'positive', 'neutral', 'positive', 'neutral', 'neutral', 'negative', 'positive', 'positive', 'positive', 'neutral', 'neutral', 'negative', 'neutral', 'neutral', 'positive', 'negative', 'negative', 'neutral', 'negative', 'neutral', 'positive', 'negative', 'positive', 'negative', 'negative', 'negative', 'positive', 'neutral', 'neutral', 'positive', 'negative', 'negative', 'positive', 'negative', 'negative', 'positive', 'neutral', 'positive', 'neutral', 'neutral', 'negative', 'neutral', 'neutral', 'positive', 'negative', 'neutral', 'positive', 'neutral', 'positive', 'positive', 'positive', 'neutral', 'negative', 'positive', 'positive', 'negative', 'positive', 'positive', 'neutral', 'positive', 'neutral', 'negative', 'negative', 'neutral', 'positive', 'neutral', 'negative', 'neutral', 'negative', 'negative', 'neutral', 'positive', 'negative', 'neutral', 'negative', 'negative', 'negative', 'neutral', 'negative', 'neutral', 'neutral', 'neutral', 'neutral', 'neutral', 'negative', 'negative', 'neutral', 'neutral', 'neutral', 'neutral', 'negative', 'positive', 'positive', 'negative', 'neutral', 'negative', 'neutral', 'neutral']\n"
     ]
    }
   ],
   "source": [
    "# load the files\n",
    "# -------------------------\n",
    "path: str = getcwd() + \"/airlinetweets\"\n",
    "airline_tweets_dataset: List[\"Bytes\"] = load_files(path)\n",
    "airline_tweets = airline_tweets_dataset.data\n",
    "airline_tweets: List[str] = list(map(lambda x: str(x), airline_tweets))\n",
    "gold: List[str] = list(map(map_label, airline_tweets_dataset.target))\n",
    "# /////////////////////////\n",
    "\n",
    "print(gold)\n",
    "# try out some more, such as NN, ADP, PRP, VBD, VBP, VBZ, WDT, aux, nsubj, pobj, dobj, npadvmod\n",
    "spacy.explain(\"aux\")"
   ]
  },
  {
   "cell_type": "markdown",
   "metadata": {},
   "source": [
    "### Task 4\n",
    "#### Boilerplate Code"
   ]
  },
  {
   "cell_type": "markdown",
   "metadata": {},
   "source": [
    "#### standard Experiment"
   ]
  },
  {
   "cell_type": "code",
   "execution_count": 61,
   "metadata": {},
   "outputs": [
    {
     "name": "stdout",
     "output_type": "stream",
     "text": [
      "              precision    recall  f1-score   support\n",
      "\n",
      "    negative       0.80      0.51      0.63      1750\n",
      "     neutral       0.60      0.51      0.55      1515\n",
      "    positive       0.56      0.88      0.68      1490\n",
      "\n",
      "    accuracy                           0.63      4755\n",
      "   macro avg       0.65      0.63      0.62      4755\n",
      "weighted avg       0.66      0.63      0.62      4755\n",
      "\n"
     ]
    }
   ],
   "source": [
    "standard_output: List[str] = list(map(lambda x: vader_output_to_label(run_vader(x)), airline_tweets))\n",
    "print(classification_report(gold, standard_output))"
   ]
  },
  {
   "cell_type": "markdown",
   "metadata": {},
   "source": [
    "#### Lemmatized Experiment"
   ]
  },
  {
   "cell_type": "code",
   "execution_count": 62,
   "metadata": {},
   "outputs": [
    {
     "name": "stdout",
     "output_type": "stream",
     "text": [
      "              precision    recall  f1-score   support\n",
      "\n",
      "    negative       0.79      0.52      0.63      1750\n",
      "     neutral       0.59      0.49      0.54      1515\n",
      "    positive       0.56      0.87      0.68      1490\n",
      "\n",
      "    accuracy                           0.62      4755\n",
      "   macro avg       0.65      0.63      0.61      4755\n",
      "weighted avg       0.65      0.62      0.62      4755\n",
      "\n"
     ]
    }
   ],
   "source": [
    "lemmatized_output: List[str] = list(map(lambda x: vader_output_to_label(run_vader(x, True)), airline_tweets))\n",
    "print(classification_report(gold, lemmatized_output))"
   ]
  },
  {
   "cell_type": "markdown",
   "metadata": {},
   "source": [
    "#### Adjectives-Only Experiment"
   ]
  },
  {
   "cell_type": "code",
   "execution_count": 63,
   "metadata": {},
   "outputs": [
    {
     "name": "stdout",
     "output_type": "stream",
     "text": [
      "              precision    recall  f1-score   support\n",
      "\n",
      "    negative       0.86      0.20      0.33      1750\n",
      "     neutral       0.40      0.90      0.55      1515\n",
      "    positive       0.67      0.43      0.52      1490\n",
      "\n",
      "    accuracy                           0.49      4755\n",
      "   macro avg       0.64      0.51      0.47      4755\n",
      "weighted avg       0.65      0.49      0.46      4755\n",
      "\n"
     ]
    }
   ],
   "source": [
    "adjectives_output: List[str] = list((map(lambda x: vader_output_to_label(run_vader(x, False, [\"ADJ\"])), airline_tweets)))\n",
    "print(classification_report(gold, adjectives_output))"
   ]
  },
  {
   "cell_type": "markdown",
   "metadata": {},
   "source": [
    "#### Lemmatized-Adjectives Experiment"
   ]
  },
  {
   "cell_type": "code",
   "execution_count": 64,
   "metadata": {},
   "outputs": [
    {
     "name": "stdout",
     "output_type": "stream",
     "text": [
      "              precision    recall  f1-score   support\n",
      "\n",
      "    negative       0.86      0.21      0.33      1750\n",
      "     neutral       0.40      0.90      0.55      1515\n",
      "    positive       0.67      0.43      0.52      1490\n",
      "\n",
      "    accuracy                           0.49      4755\n",
      "   macro avg       0.64      0.51      0.47      4755\n",
      "weighted avg       0.65      0.49      0.46      4755\n",
      "\n"
     ]
    }
   ],
   "source": [
    "lemmatized_adjectives_output: List[str] = list((map(lambda x: vader_output_to_label(run_vader(x, True, [\"ADJ\"])), airline_tweets)))\n",
    "print(classification_report(gold, lemmatized_adjectives_output))"
   ]
  },
  {
   "cell_type": "markdown",
   "metadata": {},
   "source": [
    "#### Noun-Only Experiment"
   ]
  },
  {
   "cell_type": "code",
   "execution_count": 67,
   "metadata": {},
   "outputs": [
    {
     "name": "stdout",
     "output_type": "stream",
     "text": [
      "              precision    recall  f1-score   support\n",
      "\n",
      "    negative       0.00      0.00      0.00      1750\n",
      "     neutral       0.32      1.00      0.48      1515\n",
      "    positive       0.00      0.00      0.00      1490\n",
      "\n",
      "    accuracy                           0.32      4755\n",
      "   macro avg       0.11      0.33      0.16      4755\n",
      "weighted avg       0.10      0.32      0.15      4755\n",
      "\n"
     ]
    }
   ],
   "source": [
    "# try out some more, such as NN, ADP, PRP, VBD, VBP, VBZ, WDT, aux, nsubj, pobj, dobj, npadvmod\n",
    "noun_output: List[str] = list((map(lambda x: vader_output_to_label(run_vader(x, False, [\"NN\"])), airline_tweets)))\n",
    "print(classification_report(gold, noun_output, zero_division=0))"
   ]
  },
  {
   "cell_type": "markdown",
   "metadata": {},
   "source": [
    "#### Lemmatized-Noun Experiment"
   ]
  },
  {
   "cell_type": "code",
   "execution_count": 69,
   "metadata": {},
   "outputs": [
    {
     "name": "stdout",
     "output_type": "stream",
     "text": [
      "              precision    recall  f1-score   support\n",
      "\n",
      "    negative       0.00      0.00      0.00      1750\n",
      "     neutral       0.32      1.00      0.48      1515\n",
      "    positive       0.00      0.00      0.00      1490\n",
      "\n",
      "    accuracy                           0.32      4755\n",
      "   macro avg       0.11      0.33      0.16      4755\n",
      "weighted avg       0.10      0.32      0.15      4755\n",
      "\n"
     ]
    }
   ],
   "source": [
    "lemmatized_noun_output: List[str] = list((map(lambda x: vader_output_to_label(run_vader(x, True, [\"NN\"])), airline_tweets)))\n",
    "print(classification_report(gold, lemmatized_noun_output, zero_division=0))"
   ]
  },
  {
   "cell_type": "markdown",
   "metadata": {},
   "source": [
    "#### Verbs-Only Experiment"
   ]
  },
  {
   "cell_type": "code",
   "execution_count": 68,
   "metadata": {},
   "outputs": [
    {
     "name": "stdout",
     "output_type": "stream",
     "text": [
      "              precision    recall  f1-score   support\n",
      "\n",
      "    negative       0.00      0.00      0.00      1750\n",
      "     neutral       0.32      1.00      0.48      1515\n",
      "    positive       0.00      0.00      0.00      1490\n",
      "\n",
      "    accuracy                           0.32      4755\n",
      "   macro avg       0.11      0.33      0.16      4755\n",
      "weighted avg       0.10      0.32      0.15      4755\n",
      "\n"
     ]
    }
   ],
   "source": [
    "verb_output = list((map(lambda x: vader_output_to_label(run_vader(x, False, [\"VBD, VBP, VBZ\"])), airline_tweets)))\n",
    "print(classification_report(gold, verb_output, zero_division=0))"
   ]
  },
  {
   "cell_type": "markdown",
   "metadata": {},
   "source": [
    "#### Lemmatized-Verb Experiment"
   ]
  },
  {
   "cell_type": "code",
   "execution_count": null,
   "metadata": {},
   "outputs": [],
   "source": [
    "lemmatized_verb_output = list((map(lambda x: vader_output_to_label(run_vader(x, True, [\"VBD, VBP, VBZ\"])), airline_tweets)))\n",
    "print(classification_report(gold, lemmatized_verb_output, zero_division=0))"
   ]
  },
  {
   "cell_type": "markdown",
   "metadata": {},
   "source": [
    "### General Analysis\n",
    "\n",
    "When considering the different outputs, it becomes obvious immediately that changing the sentences before feeding them to VADER has had an adverse effect so far. The lemmatization had only a very insignificant negative effect. Therefore, it would be better to have been kept out to begin with. However, once certain POS-words got filtered out, this significantly decreased the performance of the model. It's important to notice that when filtering for nouns and verbs, the positive and negative class got affected very negatively. But the neutral class seemed stay relatively afloat compared to the others. This suggests that the nouns and verbs we filtered for, tended to be mostly neutral on their own, effectively reducing all sentimental loads from the tweets to neutral, hence the results.\n",
    "\n"
   ]
  },
  {
   "cell_type": "markdown",
   "metadata": {},
   "source": [
    "## Part II: scikit-learn assignments\n",
    "### [4 points] Question 5\n",
    "Train the scikit-learn classifier (Naive Bayes) using the airline tweets.\n",
    "\n",
    "+ Train the model on the airline tweets with 80% training and 20% test set and default settings (TF-IDF representation, min_df=2)\n",
    "+ Train with different settings:\n",
    "    + with respect to vectorizing: TF-IDF ('airline_tfidf') vs. Bag of words representation ('airline_count') \n",
    "    + with respect to the frequency threshold (min_df). Carry out experiments with increasing values for document frequency (min_df = 2; min_df = 5; min_df =10) \n",
    "* [1 point] a. Generate a classification_report for all experiments\n",
    "* [3 points] b. Look at the results of the experiments with the different settings and try to explain why they differ: \n",
    "    + which category performs best, is this the case for any setting?\n",
    "    + does the frequency threshold affect the scores? Why or why not according to you?"
   ]
  },
  {
   "cell_type": "code",
   "execution_count": null,
   "metadata": {},
   "outputs": [],
   "source": [
    "# Your code here\n"
   ]
  },
  {
   "cell_type": "markdown",
   "metadata": {},
   "source": [
    "### [4 points] Question 6: Inspecting the best scoring features \n",
    "\n",
    "+ Train the scikit-learn classifier (Naive Bayes) model with the following settings (airline tweets 80% training and 20% test;  Bag of words representation ('airline_count'), min_df=2)\n",
    "* [1 point] a. Generate the list of best scoring features per class (see function **important_features_per_class** below) [1 point]\n",
    "* [3 points] b. Look at the lists and consider the following issues: \n",
    "    + [1 point] Which features did you expect for each separate class and why?\n",
    "    + [1 point] Which features did you not expect and why ? \n",
    "    + [1 point] The list contains all kinds of words such as names of airlines, punctuation, numbers and content words (e.g., 'delay' and 'bad'). Which words would you remove or keep when trying to improve the model and why? "
   ]
  },
  {
   "cell_type": "code",
   "execution_count": null,
   "metadata": {},
   "outputs": [],
   "source": [
    "def important_features_per_class(vectorizer,classifier,n=80):\n",
    "    class_labels = classifier.classes_\n",
    "    feature_names =vectorizer.get_feature_names()\n",
    "    topn_class1 = sorted(zip(classifier.feature_count_[0], feature_names),reverse=True)[:n]\n",
    "    topn_class2 = sorted(zip(classifier.feature_count_[1], feature_names),reverse=True)[:n]\n",
    "    topn_class3 = sorted(zip(classifier.feature_count_[2], feature_names),reverse=True)[:n]\n",
    "    print(\"Important words in negative documents\")\n",
    "    for coef, feat in topn_class1:\n",
    "        print(class_labels[0], coef, feat)\n",
    "    print(\"-----------------------------------------\")\n",
    "    print(\"Important words in neutral documents\")\n",
    "    for coef, feat in topn_class2:\n",
    "        print(class_labels[1], coef, feat) \n",
    "    print(\"-----------------------------------------\")\n",
    "    print(\"Important words in positive documents\")\n",
    "    for coef, feat in topn_class3:\n",
    "        print(class_labels[2], coef, feat) \n",
    "\n",
    "# example of how to call from notebook:\n",
    "#important_features_per_class(airline_vec, clf)"
   ]
  },
  {
   "cell_type": "markdown",
   "metadata": {},
   "source": [
    "### [Optional! (will not  be graded)] Question 7\n",
    "Train the model on airline tweets and test it on your own set of tweets\n",
    "+ Train the model with the following settings (airline tweets 80% training and 20% test;  Bag of words representation ('airline_count'), min_df=2)\n",
    "+ Apply the model on your own set of tweets and generate the classification report\n",
    "* [1 point] a. Carry out a quantitative analysis.\n",
    "* [1 point] b. Carry out an error analysis on 10 correctly and 10 incorrectly classified tweets and discuss them\n",
    "* [2 points] c. Compare the results (cf. classification report) with the results obtained by VADER on the same tweets and discuss the differences."
   ]
  },
  {
   "cell_type": "markdown",
   "metadata": {},
   "source": [
    "### [Optional! (will not be graded)] Question 8: trying to improve the model\n",
    "* [2 points] a. Think of some ways to improve the scikit-learn Naive Bayes model by playing with the settings or applying linguistic preprocessing (e.g., by filtering on part-of-speech, or removing punctuation). Do not change the classifier but continue using the Naive Bayes classifier. Explain what the effects might be of these other settings \n",
    "+ [1 point] b. Apply the model with at least one new setting (train on the airline tweets using 80% training, 20% test) and generate the scores\n",
    "* [1 point] c. Discuss whether the model achieved what you expected."
   ]
  },
  {
   "cell_type": "markdown",
   "metadata": {},
   "source": [
    "## End of this notebook"
   ]
  },
  {
   "cell_type": "code",
   "execution_count": null,
   "metadata": {},
   "outputs": [],
   "source": []
  }
 ],
 "metadata": {
  "kernelspec": {
   "display_name": "Python 3",
   "language": "python",
   "name": "python3"
  },
  "language_info": {
   "codemirror_mode": {
    "name": "ipython",
    "version": 3
   },
   "file_extension": ".py",
   "mimetype": "text/x-python",
   "name": "python",
   "nbconvert_exporter": "python",
   "pygments_lexer": "ipython3",
   "version": "3.12.9"
  }
 },
 "nbformat": 4,
 "nbformat_minor": 4
}
