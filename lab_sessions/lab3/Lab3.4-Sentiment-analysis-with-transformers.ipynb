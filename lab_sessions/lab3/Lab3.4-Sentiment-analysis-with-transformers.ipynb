{
 "cells": [
  {
   "cell_type": "markdown",
   "metadata": {},
   "source": [
    "# Lab3.4 Sentiment Classification using transformer models"
   ]
  },
  {
   "cell_type": "markdown",
   "metadata": {},
   "source": [
    "Copyright: Vrije Universiteit Amsterdam, Faculty of Humanities, CLTL"
   ]
  },
  {
   "cell_type": "markdown",
   "metadata": {},
   "source": [
    "This notebook explains how you can use a transformer model that is fine-tuned for sentiment analysis. Fine-tuned transformer models are published regularly on the huggingface platform: https://huggingface.co/models\n",
    "\n",
    "These models are very big (Gigabytes) and require a computer with sufficient memory to load. Furthermore, loading these models takes some time as well. It is also possible to copy such a model to your disk and to load the local copy. Still a substantial memory is needed to load it."
   ]
  },
  {
   "cell_type": "markdown",
   "metadata": {},
   "source": [
    "This notebook requires installing some deep learning packages: transformers, pytorch and simpletransformers. If you are not experienced with installing these packages, make sure you first define a virtual environment for python, activate this environment and install the packages in this enviroment.\n",
    "\n",
    "Please consult the Python documentation for installing such an enviroment:\n",
    "\n",
    "https://docs.python.org/3/library/venv.html\n",
    "\n",
    "After activating your enviroment you can install pytorch, transformers and simpletransformers from the command line. If you start this notebook within the same virtual environment you can also execute the next installation commands from your notebook. Once installed, you can comment out the next cell."
   ]
  },
  {
   "cell_type": "code",
   "execution_count": 2,
   "metadata": {},
   "outputs": [],
   "source": [
    "#!conda install pytorch cpuonly -c pytorch\n",
    "#!pip install transformers\n",
    "#!pip install simpletransformers"
   ]
  },
  {
   "cell_type": "markdown",
   "metadata": {},
   "source": [
    "Huggingface transfomers provides an option to create a **pipeline** to perform a NLP task with a pretrained model: \n",
    "\n",
    "\"The pipelines are a great and easy way to use models for inference. These pipelines are objects that abstract most of the complex code from the library, offering a simple API dedicated to several tasks, including Named Entity Recognition, Masked Language Modeling, Sentiment Analysis, Feature Extraction and Question Answering.\"\n",
    "\n",
    "More information can be found here: https://huggingface.co/transformers/v3.0.2/main_classes/pipelines.html\n",
    "\n",
    "We will use the pipeline module to load a fine-tuned model to perform senteiment analysis"
   ]
  },
  {
   "cell_type": "code",
   "execution_count": 1,
   "metadata": {},
   "outputs": [
    {
     "name": "stderr",
     "output_type": "stream",
     "text": [
      "c:\\Users\\dexter\\AppData\\Local\\Programs\\Anaconda\\envs\\TM\\Lib\\site-packages\\tqdm\\auto.py:21: TqdmWarning: IProgress not found. Please update jupyter and ipywidgets. See https://ipywidgets.readthedocs.io/en/stable/user_install.html\n",
      "  from .autonotebook import tqdm as notebook_tqdm\n"
     ]
    }
   ],
   "source": [
    "from transformers import pipeline"
   ]
  },
  {
   "cell_type": "markdown",
   "metadata": {},
   "source": [
    "We load a transformer model 'distilbert-base-uncased-finetuned-sst-2-english' that is fine-tuned for binary classification from the Hugging face repository:\n",
    "\n",
    "https://huggingface.co/models\n",
    "\n",
    "We need to load the model for the sequence classifcation and the tokenizer to convert the sentences into tokens according to the vocabulary of the model.\n",
    "\n",
    "Loading the model takes some time."
   ]
  },
  {
   "cell_type": "code",
   "execution_count": 2,
   "metadata": {},
   "outputs": [
    {
     "name": "stderr",
     "output_type": "stream",
     "text": [
      "c:\\Users\\dexter\\AppData\\Local\\Programs\\Anaconda\\envs\\TM\\Lib\\site-packages\\huggingface_hub\\file_download.py:142: UserWarning: `huggingface_hub` cache-system uses symlinks by default to efficiently store duplicated files but your machine does not support them in C:\\Users\\dexter\\.cache\\huggingface\\hub\\models--distilbert-base-uncased-finetuned-sst-2-english. Caching files will still work but in a degraded version that might require more space on your disk. This warning can be disabled by setting the `HF_HUB_DISABLE_SYMLINKS_WARNING` environment variable. For more details, see https://huggingface.co/docs/huggingface_hub/how-to-cache#limitations.\n",
      "To support symlinks on Windows, you either need to activate Developer Mode or to run Python as an administrator. In order to activate developer mode, see this article: https://docs.microsoft.com/en-us/windows/apps/get-started/enable-your-device-for-development\n",
      "  warnings.warn(message)\n",
      "Device set to use cpu\n"
     ]
    }
   ],
   "source": [
    "sentimentenglish = pipeline(\"sentiment-analysis\", \n",
    "                            model=\"distilbert-base-uncased-finetuned-sst-2-english\", \n",
    "                            tokenizer=\"distilbert-base-uncased-finetuned-sst-2-english\")"
   ]
  },
  {
   "cell_type": "markdown",
   "metadata": {},
   "source": [
    "We now created an instantiation of a pipeline that can tokenize any sentence, obtain a sententence embedding from the transformer language model and perform the **sentiment-analysis** task. Let's try it out on an example sentence."
   ]
  },
  {
   "cell_type": "code",
   "execution_count": 3,
   "metadata": {},
   "outputs": [],
   "source": [
    "sentence_pos_en = \"Nice hotel and the service is great\""
   ]
  },
  {
   "cell_type": "code",
   "execution_count": 4,
   "metadata": {},
   "outputs": [
    {
     "data": {
      "text/plain": [
       "[{'label': 'POSITIVE', 'score': 0.999881386756897}]"
      ]
     },
     "execution_count": 4,
     "metadata": {},
     "output_type": "execute_result"
    }
   ],
   "source": [
    "sentimentenglish(sentence_pos_en)"
   ]
  },
  {
   "cell_type": "code",
   "execution_count": 5,
   "metadata": {},
   "outputs": [],
   "source": [
    "sentence_neg_en = \"The rooms are dirty and the wifi does not work\""
   ]
  },
  {
   "cell_type": "code",
   "execution_count": 6,
   "metadata": {},
   "outputs": [
    {
     "data": {
      "text/plain": [
       "[{'label': 'NEGATIVE', 'score': 0.9997870326042175}]"
      ]
     },
     "execution_count": 6,
     "metadata": {},
     "output_type": "execute_result"
    }
   ],
   "source": [
    "sentimentenglish(sentence_neg_en)"
   ]
  },
  {
   "cell_type": "markdown",
   "metadata": {},
   "source": [
    "This is easy and seems to work very well. "
   ]
  },
  {
   "cell_type": "markdown",
   "metadata": {},
   "source": [
    "## Using a Dutch fine-tuned transformer model"
   ]
  },
  {
   "cell_type": "markdown",
   "metadata": {},
   "source": [
    "We can use a fine-tuned Dutch model for Dutch sentiment analysis by creating another pipeline. Again loading this model takes some time. Also note that after loading, both moodels are loaded in memory. So if you have issues loading, you may want to start over and try again just with the Dutch pipeline."
   ]
  },
  {
   "cell_type": "code",
   "execution_count": 7,
   "metadata": {},
   "outputs": [
    {
     "name": "stderr",
     "output_type": "stream",
     "text": [
      "c:\\Users\\dexter\\AppData\\Local\\Programs\\Anaconda\\envs\\TM\\Lib\\site-packages\\huggingface_hub\\file_download.py:142: UserWarning: `huggingface_hub` cache-system uses symlinks by default to efficiently store duplicated files but your machine does not support them in C:\\Users\\dexter\\.cache\\huggingface\\hub\\models--wietsedv--bert-base-dutch-cased-finetuned-sentiment. Caching files will still work but in a degraded version that might require more space on your disk. This warning can be disabled by setting the `HF_HUB_DISABLE_SYMLINKS_WARNING` environment variable. For more details, see https://huggingface.co/docs/huggingface_hub/how-to-cache#limitations.\n",
      "To support symlinks on Windows, you either need to activate Developer Mode or to run Python as an administrator. In order to activate developer mode, see this article: https://docs.microsoft.com/en-us/windows/apps/get-started/enable-your-device-for-development\n",
      "  warnings.warn(message)\n",
      "Device set to use cpu\n"
     ]
    }
   ],
   "source": [
    "sentimentdutch = pipeline(\"sentiment-analysis\", \n",
    "                          model=\"wietsedv/bert-base-dutch-cased-finetuned-sentiment\", \n",
    "                          tokenizer=\"wietsedv/bert-base-dutch-cased-finetuned-sentiment\")"
   ]
  },
  {
   "cell_type": "markdown",
   "metadata": {},
   "source": [
    "We test it on two similar Dutch sentences:"
   ]
  },
  {
   "cell_type": "code",
   "execution_count": 8,
   "metadata": {},
   "outputs": [],
   "source": [
    "sentence_pos_nl=\"Mooi hotel en de service is geweldig\"\n",
    "sentence_neg_nl=\"De kamers zijn smerig en de wifi doet het niet\""
   ]
  },
  {
   "cell_type": "code",
   "execution_count": 9,
   "metadata": {},
   "outputs": [
    {
     "data": {
      "text/plain": [
       "[{'label': 'pos', 'score': 0.9999955892562866}]"
      ]
     },
     "execution_count": 9,
     "metadata": {},
     "output_type": "execute_result"
    }
   ],
   "source": [
    "sentimentdutch(sentence_pos_nl)"
   ]
  },
  {
   "cell_type": "code",
   "execution_count": 10,
   "metadata": {},
   "outputs": [
    {
     "data": {
      "text/plain": [
       "[{'label': 'neg', 'score': 0.6675378084182739}]"
      ]
     },
     "execution_count": 10,
     "metadata": {},
     "output_type": "execute_result"
    }
   ],
   "source": [
    "sentimentdutch(sentence_neg_nl)"
   ]
  },
  {
   "cell_type": "markdown",
   "metadata": {},
   "source": [
    "This seems to work fine too although the score for negative in the second example is much lower."
   ]
  },
  {
   "cell_type": "markdown",
   "metadata": {},
   "source": [
    "## Inspecting sentence representations using Simpletransformers"
   ]
  },
  {
   "cell_type": "markdown",
   "metadata": {},
   "source": [
    "The Simpletransformers package is built on top of the transformer package. It simplifies the use of transformers even more and provides excellent documentation: https://simpletransformers.ai\n",
    "\n",
    "The site explains also how you can fine-tune models yourself or even how to build models from scratch, assuming you have the computing power and the data.\n",
    "\n",
    "Here we are going to use it to inspect the sentence representations a bit more. Unfortunately, we need to load the English model again as an instantiation of a RepresentationModel. So if you have memory issues, please stop the kernel and start again from here.\n",
    "\n",
    "Loading the model may gave a lot of warnings. You can ignore these. If you do not have a graphical card (GPU) and or cuda installed to use the GPU you need to set use_cuda to False, as shown below."
   ]
  },
  {
   "cell_type": "code",
   "execution_count": 22,
   "metadata": {},
   "outputs": [
    {
     "name": "stderr",
     "output_type": "stream",
     "text": [
      "You are using a model of type distilbert to instantiate a model of type bert. This is not supported for all configurations of models and can yield errors.\n",
      "Some weights of BertForTextRepresentation were not initialized from the model checkpoint at distilbert-base-uncased-finetuned-sst-2-english and are newly initialized: ['embeddings.LayerNorm.bias', 'embeddings.LayerNorm.weight', 'embeddings.position_embeddings.weight', 'embeddings.token_type_embeddings.weight', 'embeddings.word_embeddings.weight', 'encoder.layer.0.attention.output.LayerNorm.bias', 'encoder.layer.0.attention.output.LayerNorm.weight', 'encoder.layer.0.attention.output.dense.bias', 'encoder.layer.0.attention.output.dense.weight', 'encoder.layer.0.attention.self.key.bias', 'encoder.layer.0.attention.self.key.weight', 'encoder.layer.0.attention.self.query.bias', 'encoder.layer.0.attention.self.query.weight', 'encoder.layer.0.attention.self.value.bias', 'encoder.layer.0.attention.self.value.weight', 'encoder.layer.0.intermediate.dense.bias', 'encoder.layer.0.intermediate.dense.weight', 'encoder.layer.0.output.LayerNorm.bias', 'encoder.layer.0.output.LayerNorm.weight', 'encoder.layer.0.output.dense.bias', 'encoder.layer.0.output.dense.weight', 'encoder.layer.1.attention.output.LayerNorm.bias', 'encoder.layer.1.attention.output.LayerNorm.weight', 'encoder.layer.1.attention.output.dense.bias', 'encoder.layer.1.attention.output.dense.weight', 'encoder.layer.1.attention.self.key.bias', 'encoder.layer.1.attention.self.key.weight', 'encoder.layer.1.attention.self.query.bias', 'encoder.layer.1.attention.self.query.weight', 'encoder.layer.1.attention.self.value.bias', 'encoder.layer.1.attention.self.value.weight', 'encoder.layer.1.intermediate.dense.bias', 'encoder.layer.1.intermediate.dense.weight', 'encoder.layer.1.output.LayerNorm.bias', 'encoder.layer.1.output.LayerNorm.weight', 'encoder.layer.1.output.dense.bias', 'encoder.layer.1.output.dense.weight', 'encoder.layer.10.attention.output.LayerNorm.bias', 'encoder.layer.10.attention.output.LayerNorm.weight', 'encoder.layer.10.attention.output.dense.bias', 'encoder.layer.10.attention.output.dense.weight', 'encoder.layer.10.attention.self.key.bias', 'encoder.layer.10.attention.self.key.weight', 'encoder.layer.10.attention.self.query.bias', 'encoder.layer.10.attention.self.query.weight', 'encoder.layer.10.attention.self.value.bias', 'encoder.layer.10.attention.self.value.weight', 'encoder.layer.10.intermediate.dense.bias', 'encoder.layer.10.intermediate.dense.weight', 'encoder.layer.10.output.LayerNorm.bias', 'encoder.layer.10.output.LayerNorm.weight', 'encoder.layer.10.output.dense.bias', 'encoder.layer.10.output.dense.weight', 'encoder.layer.11.attention.output.LayerNorm.bias', 'encoder.layer.11.attention.output.LayerNorm.weight', 'encoder.layer.11.attention.output.dense.bias', 'encoder.layer.11.attention.output.dense.weight', 'encoder.layer.11.attention.self.key.bias', 'encoder.layer.11.attention.self.key.weight', 'encoder.layer.11.attention.self.query.bias', 'encoder.layer.11.attention.self.query.weight', 'encoder.layer.11.attention.self.value.bias', 'encoder.layer.11.attention.self.value.weight', 'encoder.layer.11.intermediate.dense.bias', 'encoder.layer.11.intermediate.dense.weight', 'encoder.layer.11.output.LayerNorm.bias', 'encoder.layer.11.output.LayerNorm.weight', 'encoder.layer.11.output.dense.bias', 'encoder.layer.11.output.dense.weight', 'encoder.layer.2.attention.output.LayerNorm.bias', 'encoder.layer.2.attention.output.LayerNorm.weight', 'encoder.layer.2.attention.output.dense.bias', 'encoder.layer.2.attention.output.dense.weight', 'encoder.layer.2.attention.self.key.bias', 'encoder.layer.2.attention.self.key.weight', 'encoder.layer.2.attention.self.query.bias', 'encoder.layer.2.attention.self.query.weight', 'encoder.layer.2.attention.self.value.bias', 'encoder.layer.2.attention.self.value.weight', 'encoder.layer.2.intermediate.dense.bias', 'encoder.layer.2.intermediate.dense.weight', 'encoder.layer.2.output.LayerNorm.bias', 'encoder.layer.2.output.LayerNorm.weight', 'encoder.layer.2.output.dense.bias', 'encoder.layer.2.output.dense.weight', 'encoder.layer.3.attention.output.LayerNorm.bias', 'encoder.layer.3.attention.output.LayerNorm.weight', 'encoder.layer.3.attention.output.dense.bias', 'encoder.layer.3.attention.output.dense.weight', 'encoder.layer.3.attention.self.key.bias', 'encoder.layer.3.attention.self.key.weight', 'encoder.layer.3.attention.self.query.bias', 'encoder.layer.3.attention.self.query.weight', 'encoder.layer.3.attention.self.value.bias', 'encoder.layer.3.attention.self.value.weight', 'encoder.layer.3.intermediate.dense.bias', 'encoder.layer.3.intermediate.dense.weight', 'encoder.layer.3.output.LayerNorm.bias', 'encoder.layer.3.output.LayerNorm.weight', 'encoder.layer.3.output.dense.bias', 'encoder.layer.3.output.dense.weight', 'encoder.layer.4.attention.output.LayerNorm.bias', 'encoder.layer.4.attention.output.LayerNorm.weight', 'encoder.layer.4.attention.output.dense.bias', 'encoder.layer.4.attention.output.dense.weight', 'encoder.layer.4.attention.self.key.bias', 'encoder.layer.4.attention.self.key.weight', 'encoder.layer.4.attention.self.query.bias', 'encoder.layer.4.attention.self.query.weight', 'encoder.layer.4.attention.self.value.bias', 'encoder.layer.4.attention.self.value.weight', 'encoder.layer.4.intermediate.dense.bias', 'encoder.layer.4.intermediate.dense.weight', 'encoder.layer.4.output.LayerNorm.bias', 'encoder.layer.4.output.LayerNorm.weight', 'encoder.layer.4.output.dense.bias', 'encoder.layer.4.output.dense.weight', 'encoder.layer.5.attention.output.LayerNorm.bias', 'encoder.layer.5.attention.output.LayerNorm.weight', 'encoder.layer.5.attention.output.dense.bias', 'encoder.layer.5.attention.output.dense.weight', 'encoder.layer.5.attention.self.key.bias', 'encoder.layer.5.attention.self.key.weight', 'encoder.layer.5.attention.self.query.bias', 'encoder.layer.5.attention.self.query.weight', 'encoder.layer.5.attention.self.value.bias', 'encoder.layer.5.attention.self.value.weight', 'encoder.layer.5.intermediate.dense.bias', 'encoder.layer.5.intermediate.dense.weight', 'encoder.layer.5.output.LayerNorm.bias', 'encoder.layer.5.output.LayerNorm.weight', 'encoder.layer.5.output.dense.bias', 'encoder.layer.5.output.dense.weight', 'encoder.layer.6.attention.output.LayerNorm.bias', 'encoder.layer.6.attention.output.LayerNorm.weight', 'encoder.layer.6.attention.output.dense.bias', 'encoder.layer.6.attention.output.dense.weight', 'encoder.layer.6.attention.self.key.bias', 'encoder.layer.6.attention.self.key.weight', 'encoder.layer.6.attention.self.query.bias', 'encoder.layer.6.attention.self.query.weight', 'encoder.layer.6.attention.self.value.bias', 'encoder.layer.6.attention.self.value.weight', 'encoder.layer.6.intermediate.dense.bias', 'encoder.layer.6.intermediate.dense.weight', 'encoder.layer.6.output.LayerNorm.bias', 'encoder.layer.6.output.LayerNorm.weight', 'encoder.layer.6.output.dense.bias', 'encoder.layer.6.output.dense.weight', 'encoder.layer.7.attention.output.LayerNorm.bias', 'encoder.layer.7.attention.output.LayerNorm.weight', 'encoder.layer.7.attention.output.dense.bias', 'encoder.layer.7.attention.output.dense.weight', 'encoder.layer.7.attention.self.key.bias', 'encoder.layer.7.attention.self.key.weight', 'encoder.layer.7.attention.self.query.bias', 'encoder.layer.7.attention.self.query.weight', 'encoder.layer.7.attention.self.value.bias', 'encoder.layer.7.attention.self.value.weight', 'encoder.layer.7.intermediate.dense.bias', 'encoder.layer.7.intermediate.dense.weight', 'encoder.layer.7.output.LayerNorm.bias', 'encoder.layer.7.output.LayerNorm.weight', 'encoder.layer.7.output.dense.bias', 'encoder.layer.7.output.dense.weight', 'encoder.layer.8.attention.output.LayerNorm.bias', 'encoder.layer.8.attention.output.LayerNorm.weight', 'encoder.layer.8.attention.output.dense.bias', 'encoder.layer.8.attention.output.dense.weight', 'encoder.layer.8.attention.self.key.bias', 'encoder.layer.8.attention.self.key.weight', 'encoder.layer.8.attention.self.query.bias', 'encoder.layer.8.attention.self.query.weight', 'encoder.layer.8.attention.self.value.bias', 'encoder.layer.8.attention.self.value.weight', 'encoder.layer.8.intermediate.dense.bias', 'encoder.layer.8.intermediate.dense.weight', 'encoder.layer.8.output.LayerNorm.bias', 'encoder.layer.8.output.LayerNorm.weight', 'encoder.layer.8.output.dense.bias', 'encoder.layer.8.output.dense.weight', 'encoder.layer.9.attention.output.LayerNorm.bias', 'encoder.layer.9.attention.output.LayerNorm.weight', 'encoder.layer.9.attention.output.dense.bias', 'encoder.layer.9.attention.output.dense.weight', 'encoder.layer.9.attention.self.key.bias', 'encoder.layer.9.attention.self.key.weight', 'encoder.layer.9.attention.self.query.bias', 'encoder.layer.9.attention.self.query.weight', 'encoder.layer.9.attention.self.value.bias', 'encoder.layer.9.attention.self.value.weight', 'encoder.layer.9.intermediate.dense.bias', 'encoder.layer.9.intermediate.dense.weight', 'encoder.layer.9.output.LayerNorm.bias', 'encoder.layer.9.output.LayerNorm.weight', 'encoder.layer.9.output.dense.bias', 'encoder.layer.9.output.dense.weight', 'pooler.dense.bias', 'pooler.dense.weight']\n",
      "You should probably TRAIN this model on a down-stream task to be able to use it for predictions and inference.\n",
      "The tokenizer class you load from this checkpoint is not the same type as the class this function is called from. It may result in unexpected tokenization. \n",
      "The tokenizer class you load from this checkpoint is 'DistilBertTokenizer'. \n",
      "The class this function is called from is 'BertTokenizer'.\n"
     ]
    }
   ],
   "source": [
    "from simpletransformers.language_representation import RepresentationModel\n",
    "        \n",
    "#sentences = [\"Example sentence 1\", \"Example sentence 2\"]\n",
    "model = RepresentationModel(\n",
    "        model_type=\"bert\",\n",
    "        model_name=\"distilbert-base-uncased-finetuned-sst-2-english\",\n",
    "        use_cuda=False ## If you cannot use a GPU set this to false\n",
    "    )"
   ]
  },
  {
   "cell_type": "markdown",
   "metadata": {},
   "source": [
    "The Representationmodel allows you to obtain a sentence encoding. We do that next for the positive English example which consists of 7 words:"
   ]
  },
  {
   "cell_type": "code",
   "execution_count": 23,
   "metadata": {},
   "outputs": [
    {
     "data": {
      "text/plain": [
       "'Nice hotel and the service is great'"
      ]
     },
     "execution_count": 23,
     "metadata": {},
     "output_type": "execute_result"
    }
   ],
   "source": [
    "sentence_pos_en"
   ]
  },
  {
   "cell_type": "markdown",
   "metadata": {},
   "source": [
    "According to the simpletransformers API the input must be a list even when it is a single sentence. If you pass a string as input, it will turn it into a list of charcaters, each character as a separate sentence."
   ]
  },
  {
   "cell_type": "code",
   "execution_count": 24,
   "metadata": {},
   "outputs": [],
   "source": [
    "word_vectors = model.encode_sentences([sentence_pos_en], combine_strategy=None)"
   ]
  },
  {
   "cell_type": "markdown",
   "metadata": {},
   "source": [
    "The result is a numpy array with the shape (1, 9, 768) "
   ]
  },
  {
   "cell_type": "code",
   "execution_count": 25,
   "metadata": {},
   "outputs": [
    {
     "name": "stdout",
     "output_type": "stream",
     "text": [
      "<class 'numpy.ndarray'>\n",
      "(1, 9, 768)\n"
     ]
    }
   ],
   "source": [
    "print(type(word_vectors))\n",
    "print(word_vectors.shape)"
   ]
  },
  {
   "cell_type": "markdown",
   "metadata": {},
   "source": [
    "The first number indicates the number of sentences, which is **1** in our case. The next digit **9** indicates the number of tokens and the final digit is the number of dimension for each token according to the transformer model, which **768** in case of BERT models.\n",
    "\n",
    "We can ask for the full embedding representation for the first token:"
   ]
  },
  {
   "cell_type": "code",
   "execution_count": 26,
   "metadata": {},
   "outputs": [
    {
     "name": "stdout",
     "output_type": "stream",
     "text": [
      "Nr of dimensions for the mebdding of the first token: 768\n",
      "[-1.79789797e-03 -5.68531394e-01 -5.53302646e-01  5.70197284e-01\n",
      "  8.32311869e-01  2.24977463e-01  8.32138509e-02  1.37577787e-01\n",
      " -5.91011226e-01  1.81765223e+00 -1.14884377e+00 -3.67652774e-01\n",
      " -5.12827814e-01 -4.64984506e-01  1.20969042e-01 -1.22760922e-01\n",
      "  1.36673415e+00 -2.48048261e-01  1.40518713e+00  2.65973836e-01\n",
      "  1.31935239e-01  3.62478435e-01  1.01103580e+00 -6.65430903e-01\n",
      "  1.54146147e+00 -5.86104333e-01 -4.28899109e-01 -9.15360212e-01\n",
      " -6.86204791e-01 -1.08390629e+00  1.31876707e-01 -1.02485776e+00\n",
      " -1.49004900e+00  1.24326932e+00 -8.04955304e-01  7.52796054e-01\n",
      " -1.16899729e+00 -1.26774251e+00 -2.83159018e-01  8.20203543e-01\n",
      "  3.47278148e-01  7.98677728e-02 -4.53501493e-01 -1.86085895e-01\n",
      "  2.23510528e+00  1.37034476e-01 -1.03073716e+00  2.31511354e-01\n",
      "  1.20677245e+00 -1.98399022e-01  1.04533291e+00 -7.42368042e-01\n",
      "  3.71435255e-01 -1.44816530e+00  9.27010365e-03 -1.91422388e-01\n",
      " -6.56036437e-02 -7.57085562e-01 -8.51989508e-01 -3.25665772e-01\n",
      " -2.18096405e-01 -2.20833451e-01  6.49722993e-01 -1.43263388e+00\n",
      " -3.77449542e-01  1.32504255e-01 -1.17701069e-01  2.11608931e-02\n",
      " -7.30060697e-01  3.59827101e-01  2.95603067e-01 -1.45233825e-01\n",
      " -4.91335124e-01 -1.21640652e-01 -6.08757377e-01  6.97158813e-01\n",
      "  7.74394393e-01 -6.62653744e-01  7.33281136e-01  7.98919439e-01\n",
      " -1.60820261e-01  3.14847261e-01 -7.64601827e-01  2.05136490e+00\n",
      " -1.45138994e-01 -6.23004027e-02  2.30068326e-01  2.31271529e+00\n",
      " -4.07271206e-01 -1.03534806e+00 -8.27533960e-01 -1.98517621e+00\n",
      " -5.80423400e-02  5.06899834e-01 -1.29106510e+00 -2.16958737e+00\n",
      " -2.50754774e-01 -3.45494002e-01  1.55052140e-01 -1.24838126e+00\n",
      " -6.56073391e-01  8.31047833e-01 -4.14462328e-01  7.01271355e-01\n",
      " -7.46906459e-01  3.14686149e-01 -1.41888574e-01  3.95124197e-01\n",
      " -9.81912166e-02  5.12947202e-01  2.01130199e+00 -4.96861458e-01\n",
      "  5.35716526e-02 -9.77422893e-01  1.52325869e+00  9.86538351e-01\n",
      " -6.86230659e-01  1.81725299e+00 -2.24701598e-01 -3.35960746e-01\n",
      "  4.02625918e-01 -1.10373700e+00 -3.31880659e-01  5.95098883e-02\n",
      "  3.75398815e-01  7.09337711e-01  6.45084202e-01  1.22175801e+00\n",
      "  2.50975776e+00  2.34618425e+00  1.61226082e+00 -3.46313238e-01\n",
      " -1.77763069e+00 -1.90067220e+00  2.06080690e-01  4.86055404e-01\n",
      " -9.40955639e-01  1.29227328e+00  1.11691558e+00 -9.51217711e-01\n",
      " -2.45893270e-01  8.98645222e-01 -6.03733182e-01 -4.64093834e-01\n",
      "  1.73902690e+00 -8.30769017e-02  3.72094572e-01 -6.27806723e-01\n",
      "  2.99370795e-01  9.31431055e-01  1.63888001e+00 -1.01779056e+00\n",
      "  3.11567724e-01  2.18878835e-01 -5.42048156e-01 -2.19941831e+00\n",
      " -8.67323279e-01 -6.22316778e-01  1.10442348e-01 -1.52593863e+00\n",
      " -1.16928244e+00 -4.17495579e-01  1.18167388e+00  2.19997621e+00\n",
      "  9.63164687e-01 -1.24412322e+00  1.91980386e+00  1.81352389e+00\n",
      "  8.16306353e-01  7.91945517e-01  1.00144553e+00 -1.58961976e+00\n",
      "  3.22957277e-01 -1.27936620e-02 -2.46605620e-01  4.52509582e-01\n",
      " -7.85618842e-01  1.07240427e+00 -2.40410066e+00 -1.47766089e+00\n",
      "  8.39898944e-01 -1.30623803e-01  7.07548201e-01 -6.86508238e-01\n",
      " -3.16201113e-02 -1.93873748e-01 -2.68345904e+00 -1.51082408e+00\n",
      " -3.38446468e-01  7.31341124e-01 -1.11654329e+00 -2.65840411e-01\n",
      "  1.92859054e-01  3.17550921e+00 -1.29051246e-02  1.01520383e+00\n",
      "  5.24247624e-02  1.16987240e+00  4.20406580e-01 -1.23760688e+00\n",
      "  1.00089383e+00 -6.28081620e-01  1.38187802e+00 -1.78567946e+00\n",
      "  4.03246433e-01  1.01575184e+00 -1.30370772e+00 -2.09396728e-03\n",
      "  7.51483262e-01  9.40305471e-01 -3.52029324e-01  3.80712628e-01\n",
      " -8.74978483e-01  1.04018569e+00 -7.48187304e-01  2.20491707e-01\n",
      " -4.96179640e-01 -1.43038735e-01 -2.73148227e+00 -8.73313129e-01\n",
      "  6.16986096e-01  8.17529738e-01  5.88171482e-01 -1.35742760e+00\n",
      "  9.04221237e-01 -1.68772972e+00  2.54001617e-01  7.98335612e-01\n",
      "  6.61417842e-01  1.19103694e+00  1.05718446e+00 -6.66036546e-01\n",
      " -1.90760076e-01 -1.02743757e+00  1.41380429e+00 -9.17223394e-01\n",
      "  1.60785723e+00  1.12197721e+00 -4.68046904e-01 -1.17561698e+00\n",
      "  1.62463665e+00 -2.33641922e-01 -5.10986745e-01  6.98088527e-01\n",
      " -3.62038761e-01 -3.10482711e-01 -4.19037372e-01  8.86874199e-01\n",
      "  6.08132064e-01 -2.42070532e+00  7.52625525e-01  9.37484503e-02\n",
      "  2.14849758e+00 -7.70523131e-01 -4.06697333e-01 -9.11768854e-01\n",
      "  6.03993416e-01 -1.63464808e+00  1.39922512e+00  1.76642442e+00\n",
      "  7.81040549e-01 -2.34580860e-01 -1.28647554e+00 -9.93809402e-01\n",
      " -2.79770464e-01  1.08871984e+00 -3.67428631e-01 -7.41972804e-01\n",
      "  5.20459950e-01  2.60652989e-01 -6.17888570e-01  2.71089431e-02\n",
      " -2.88595796e-01  1.37424171e+00  8.95428956e-01 -2.56859839e-01\n",
      "  8.41978908e-01  1.13452518e+00 -1.02444935e+00 -8.87504816e-01\n",
      "  1.44893885e-01  7.23768055e-01  1.11950839e+00  4.00163472e-01\n",
      " -1.18982148e+00  1.43595368e-01  1.21313475e-01 -1.62731874e+00\n",
      "  4.14999127e-01 -6.13403261e-01  6.12535059e-01  6.19650066e-01\n",
      " -2.85010129e-01  1.72877860e+00  1.26142788e+00  2.88436532e-01\n",
      "  5.76244414e-01  1.47200370e+00 -1.38264549e+00  5.71425438e-01\n",
      " -1.61076558e+00  1.96429208e-01 -3.05231828e-02  2.63019383e-01\n",
      "  1.77291766e-01 -7.82093704e-01  6.31753877e-02 -1.00939882e+00\n",
      " -6.66266441e-01 -1.38200533e+00 -1.57972419e+00 -1.93014467e+00\n",
      "  3.98357838e-01  8.59864235e-01  7.43857622e-01 -1.78477034e-01\n",
      "  1.67844081e+00  1.63841748e+00  1.46174359e+00  7.61897683e-01\n",
      " -2.32562810e-01  7.03054518e-02 -9.87924635e-01  2.41036877e-01\n",
      "  1.28363657e+00 -2.16192782e-01  1.25580990e+00  9.54818666e-01\n",
      "  7.96104729e-01 -4.68779474e-01  5.13936639e-01  9.00064886e-01\n",
      "  3.61821830e-01  3.09367388e-01 -1.99950373e+00 -3.59999925e-01\n",
      " -5.87616265e-01  6.23084068e-01 -1.13196993e+00 -1.67296875e+00\n",
      "  1.00224030e+00 -4.61550862e-01  5.94735384e-01 -1.15587853e-01\n",
      "  3.07583846e-02  1.10406446e+00 -1.07777321e+00  5.71500421e-01\n",
      "  3.52886707e-01 -9.24166381e-01 -3.31319481e-01  1.77161205e+00\n",
      " -1.31005597e+00  1.98743582e+00 -1.44066739e+00 -1.22108781e+00\n",
      "  2.47219062e+00 -3.98981184e-01  9.66560304e-01  1.01331830e+00\n",
      " -5.20976603e-01 -3.43471617e-02 -1.54848742e+00  3.30366552e-01\n",
      "  7.07771063e-01 -2.06661418e-01  3.43970865e-01  3.04972976e-01\n",
      " -2.23620862e-01 -1.07365370e+00  1.05090070e+00 -2.51149684e-01\n",
      " -9.44329202e-01 -1.48607105e-01  2.15626359e+00  1.08475626e+00\n",
      "  2.90744245e-01  9.06160116e-01 -6.62981510e-01  1.52830327e+00\n",
      "  7.48203099e-01  9.45074141e-01 -1.13604641e+00 -2.65759647e-01\n",
      " -1.02127528e+00  1.08019757e+00 -2.27117509e-01  1.36380601e+00\n",
      " -9.41923738e-01  5.42344451e-01  9.76892531e-01 -8.91477287e-01\n",
      " -3.81618619e-01 -2.64083296e-01 -6.63362622e-01  1.22044849e+00\n",
      " -6.74289823e-01  8.89597178e-01  2.72776615e-02  6.21088922e-01\n",
      " -2.49310493e+00 -4.44022298e-01 -3.71224791e-01  9.52312768e-01\n",
      "  3.55537117e-01  1.44824423e-02 -6.09174430e-01  1.97304046e+00\n",
      " -1.07069969e+00 -6.35917187e-01  1.07239150e-01 -4.59945872e-02\n",
      " -5.24679780e-01  2.13837457e+00  1.16409235e-01  1.16702035e-01\n",
      " -3.40592042e-02 -6.46085858e-01 -2.32862139e+00  8.50821018e-01\n",
      " -1.44022703e+00  2.14670822e-01  4.14061517e-01 -2.30067730e-01\n",
      "  5.23047090e-01 -8.79699826e-01 -1.24880135e+00  2.07087803e+00\n",
      " -2.45013833e-02 -8.24703038e-01 -5.26586890e-01  2.64492321e+00\n",
      "  1.09150156e-01 -1.42862098e-02  1.28868818e+00  1.32247138e+00\n",
      "  1.34658861e+00  5.32429218e-01 -1.62719321e+00 -3.10388446e-01\n",
      " -4.38194066e-01 -1.32035422e+00  6.38337731e-01 -4.53470826e-01\n",
      "  8.17956865e-01  9.22905087e-01  1.29122734e+00  7.12684929e-01\n",
      " -1.87734234e+00 -1.41276121e+00 -3.55257481e-01  1.56854495e-01\n",
      "  2.36363947e-01 -9.21290457e-01  3.24817479e-01 -5.73822737e-01\n",
      " -2.15962434e+00 -1.79496777e+00 -7.69863069e-01  1.49111080e+00\n",
      " -8.59755516e-01  4.66912776e-01 -4.43308651e-01 -5.76717734e-01\n",
      "  1.37667164e-01 -1.37214053e+00  3.58525485e-01 -1.49955586e-01\n",
      " -3.05900902e-01  6.73746288e-01 -1.33250549e-01  1.03909755e+00\n",
      " -2.76907593e-01 -2.18089437e+00 -4.95032996e-01  2.08900452e+00\n",
      "  8.50905403e-02 -1.32777721e-01 -1.16107059e+00  4.54829074e-02\n",
      "  9.27442849e-01  9.12964195e-02 -6.94055140e-01 -9.36558396e-02\n",
      " -1.94449127e+00 -7.43443191e-01 -1.20874119e+00 -1.24412620e+00\n",
      " -1.28403353e-02  1.61613059e+00  7.30872929e-01 -1.36425102e+00\n",
      "  6.40933037e-01  1.22323704e+00  1.10447121e+00  1.83304206e-01\n",
      " -1.28562725e+00  7.49263108e-01 -9.48236406e-01 -1.66786432e+00\n",
      " -6.19970679e-01 -1.08402801e+00 -2.57695228e-01  7.55298734e-01\n",
      " -9.25710201e-01 -7.27114618e-01 -2.67414954e-02 -5.87444663e-01\n",
      "  5.75543046e-01 -3.87961388e-01 -1.38888070e-02 -2.24085379e+00\n",
      " -2.24975085e+00 -1.23962402e+00 -1.11058247e+00 -1.59106672e+00\n",
      "  1.36189151e+00 -1.63036096e+00  1.90303892e-01 -1.68525171e+00\n",
      " -1.22887778e+00 -4.54719663e-01  1.32828212e+00  3.92184675e-01\n",
      " -1.44289207e+00  2.28592437e-02  1.18508410e+00 -1.72907785e-01\n",
      "  4.79936391e-01 -1.32148600e+00 -4.49784905e-01 -7.59942159e-02\n",
      " -1.17909932e+00  1.78848886e+00 -1.97443798e-01 -1.18363452e+00\n",
      " -1.22774339e+00  7.45422721e-01  1.68950367e+00 -1.43609965e+00\n",
      "  2.75992304e-01  1.90036821e+00  1.38617158e+00 -7.42304251e-02\n",
      " -1.80376363e+00 -1.19501889e+00  2.11097670e+00  3.77911687e-01\n",
      " -4.79539335e-01 -9.96463954e-01 -7.20649719e-01 -1.27890801e+00\n",
      "  9.69687939e-01 -8.96107137e-01 -4.28112373e-02 -1.27325922e-01\n",
      " -1.58203363e+00  1.09702837e+00  6.19250059e-01 -3.68136585e-01\n",
      "  1.93121397e+00  4.97458398e-01 -3.74412924e-01  1.02509952e+00\n",
      " -1.90109777e+00 -2.00611973e+00  7.57234156e-01 -1.84340537e+00\n",
      " -3.90164047e-01  1.51141798e+00  1.24172997e+00  1.83904588e-01\n",
      "  4.15017962e-01 -1.11059391e+00 -1.17833018e+00 -6.74966574e-01\n",
      " -6.35846615e-01 -5.13506114e-01 -1.18340015e+00 -1.24944711e+00\n",
      "  1.48088181e+00 -2.22627267e-01  1.69903651e-01 -7.34549165e-01\n",
      "  4.94541705e-01  2.63455957e-01 -2.79577494e-01  2.68522620e-01\n",
      "  5.03179431e-01 -9.89910722e-01  8.44084501e-01 -2.17451394e-01\n",
      " -6.32457554e-01 -2.81128496e-01 -6.04151070e-01 -1.98126912e-01\n",
      "  1.08205885e-01  1.58642745e+00  6.60376608e-01  4.11959112e-01\n",
      "  7.36485481e-01 -4.86275703e-01  4.12546128e-01 -1.72598198e-01\n",
      " -2.52738535e-01  4.19088900e-01 -3.16643625e-01 -1.54199076e+00\n",
      " -9.89773333e-01  8.05711865e-01 -2.65368700e-01 -1.14134789e+00\n",
      "  2.43571475e-01 -6.36628926e-01 -1.64168251e+00 -8.45875740e-02\n",
      "  4.74705160e-01  7.00481176e-01  3.01121622e-01  1.34570730e+00\n",
      "  1.60201773e-01  1.24036133e+00 -8.79783854e-02  1.01953614e+00\n",
      "  2.54755557e-01 -3.53633732e-01 -7.95850396e-01  7.76482880e-01\n",
      "  2.71501089e-03 -3.55563432e-01  1.18429966e-01 -3.80887449e-01\n",
      "  5.81977330e-02 -4.15600389e-01  3.40417922e-01 -7.67828599e-02\n",
      " -6.46590352e-01 -3.87071460e-01 -2.96359152e-01  4.20339346e-01\n",
      "  1.42665744e+00  9.67897117e-01 -1.25248268e-01 -1.38410151e-01\n",
      "  3.45507890e-01 -1.92130244e+00 -9.76679102e-02  1.57601190e+00\n",
      " -1.29817080e+00 -1.80343926e+00  1.18604565e+00  1.85791266e+00\n",
      "  3.51023793e-01  6.18134618e-01 -2.76268333e-01 -4.19764727e-01\n",
      " -2.77697798e-02  7.40749717e-01 -8.71889830e-01  2.67109573e-01\n",
      "  3.03540453e-02 -7.35996664e-01  8.53330255e-01  2.92414606e-01\n",
      "  2.86303163e-02  3.53471279e-01 -6.35986865e-01  1.39458895e+00\n",
      "  9.31759894e-01 -8.39506865e-01 -1.80579519e+00 -1.71702194e+00\n",
      "  6.45762801e-01  3.65642130e-01 -1.07575178e+00 -7.63109699e-02\n",
      " -7.33895421e-01 -2.23539561e-01  1.62439334e+00  5.01142979e-01\n",
      "  2.16328764e+00 -6.13973916e-01 -3.49676549e-01  3.47975641e-01\n",
      "  1.56198770e-01 -1.15925133e+00  1.87393796e+00  2.69966841e-01\n",
      "  1.54596281e+00  8.48521650e-01 -1.04203820e+00 -8.67170215e-01\n",
      " -6.43728554e-01  4.69890475e-01 -7.74269104e-01 -5.66490471e-01\n",
      "  7.03052133e-02 -1.95060706e+00  1.79214394e+00  9.03993249e-01\n",
      "  3.94592434e-01  6.65151298e-01 -3.45563084e-01  7.24729300e-02\n",
      " -7.65988410e-01  1.49575746e+00  1.61203861e-01  6.76575661e-01\n",
      "  3.70584399e-01 -7.57041514e-01  4.45027918e-01  2.52977252e-01\n",
      "  1.15240574e+00 -4.13842022e-01 -1.68149814e-01  1.79222631e+00\n",
      " -1.45353839e-01 -2.61985540e+00 -1.23392153e+00  4.42720316e-02\n",
      "  2.55006701e-01  1.06764829e+00  1.22108948e+00 -7.52530918e-02\n",
      " -5.07840216e-01 -1.58952010e+00  3.06764126e-01 -9.79167700e-01\n",
      "  3.52858193e-02 -9.61372197e-01  1.30737877e+00 -1.99913633e+00\n",
      "  5.38810492e-02 -7.37220407e-01 -2.03939414e+00 -6.76539779e-01\n",
      " -5.53330779e-01 -3.01624984e-01  6.96950018e-01  7.72193730e-01\n",
      "  1.56979835e+00 -1.20914149e+00  5.73830068e-01 -1.86859388e-02\n",
      " -1.31073281e-01  1.83412957e+00  8.99222136e-01  1.29163039e+00\n",
      "  8.26357305e-01 -1.89771342e+00 -3.07868272e-01 -1.49614990e-01\n",
      " -8.24233532e-01  5.25883257e-01  9.63921010e-01  7.09539950e-01\n",
      "  5.83468199e-01  3.30254734e-01  6.00916207e-01  2.55812359e+00\n",
      "  1.37502730e+00  7.70600617e-01  3.75776857e-01  1.14316130e+00\n",
      " -8.63858283e-01  1.16990089e+00 -1.13791776e+00  2.19577599e+00]\n"
     ]
    }
   ],
   "source": [
    "print('Nr of dimensions for the mebdding of the first token:', len(word_vectors[0][0]))\n",
    "print(word_vectors[0][0])"
   ]
  },
  {
   "cell_type": "markdown",
   "metadata": {},
   "source": [
    "**WAIT** Our sentence has 7 words so why do we get 9 tokens here?"
   ]
  },
  {
   "cell_type": "markdown",
   "metadata": {},
   "source": [
    "We can  use the tokenizer of the model to get the token representation of the transformer and check it out."
   ]
  },
  {
   "cell_type": "code",
   "execution_count": 27,
   "metadata": {},
   "outputs": [
    {
     "data": {
      "text/plain": [
       "{'input_ids': [101, 100, 3309, 1998, 1996, 2326, 2003, 2307, 102], 'token_type_ids': [0, 0, 0, 0, 0, 0, 0, 0, 0], 'attention_mask': [1, 1, 1, 1, 1, 1, 1, 1, 1]}"
      ]
     },
     "execution_count": 27,
     "metadata": {},
     "output_type": "execute_result"
    }
   ],
   "source": [
    "tokenized_sentence = model.tokenizer(sentence_pos_en)\n",
    "tokenized_sentence"
   ]
  },
  {
   "cell_type": "markdown",
   "metadata": {},
   "source": [
    "Although our sentence has 7 words, we get 9 identifiers. We can use the **decode** function to convert them back to words:"
   ]
  },
  {
   "cell_type": "code",
   "execution_count": 28,
   "metadata": {},
   "outputs": [
    {
     "data": {
      "text/plain": [
       "'[CLS]'"
      ]
     },
     "execution_count": 28,
     "metadata": {},
     "output_type": "execute_result"
    }
   ],
   "source": [
    "model.tokenizer.decode(101)"
   ]
  },
  {
   "cell_type": "markdown",
   "metadata": {},
   "source": [
    "The first token is the special token **CLS** which is an abstract sentence representation. Let's check another one:"
   ]
  },
  {
   "cell_type": "code",
   "execution_count": 29,
   "metadata": {},
   "outputs": [
    {
     "data": {
      "text/plain": [
       "'hotel'"
      ]
     },
     "execution_count": 29,
     "metadata": {},
     "output_type": "execute_result"
    }
   ],
   "source": [
    "model.tokenizer.decode(3309)"
   ]
  },
  {
   "cell_type": "markdown",
   "metadata": {},
   "source": [
    "Allright, this a word from our sentence. Let's decode them all:"
   ]
  },
  {
   "cell_type": "code",
   "execution_count": 30,
   "metadata": {},
   "outputs": [
    {
     "name": "stdout",
     "output_type": "stream",
     "text": [
      "101 [CLS]\n",
      "100 [UNK]\n",
      "3309 hotel\n",
      "1998 and\n",
      "1996 the\n",
      "2326 service\n",
      "2003 is\n",
      "2307 great\n",
      "102 [SEP]\n"
     ]
    }
   ],
   "source": [
    "tokenid_list = tokenized_sentence['input_ids']\n",
    "for token_id in tokenid_list:\n",
    "    print(token_id, model.tokenizer.decode(token_id))"
   ]
  },
  {
   "cell_type": "markdown",
   "metadata": {},
   "source": [
    "The transformer model added the special tokens **CLS** and **SEP** but also represented our \"Nice\" with the **UNK** token. Any idea why? Check the name of the model we used....."
   ]
  },
  {
   "cell_type": "markdown",
   "metadata": {},
   "source": [
    "We used the uncased model, which means that for training all inoput was downcased."
   ]
  },
  {
   "cell_type": "markdown",
   "metadata": {},
   "source": [
    "# End of this notebook"
   ]
  },
  {
   "cell_type": "code",
   "execution_count": null,
   "metadata": {},
   "outputs": [],
   "source": []
  }
 ],
 "metadata": {
  "kernelspec": {
   "display_name": "TM",
   "language": "python",
   "name": "python3"
  },
  "language_info": {
   "codemirror_mode": {
    "name": "ipython",
    "version": 3
   },
   "file_extension": ".py",
   "mimetype": "text/x-python",
   "name": "python",
   "nbconvert_exporter": "python",
   "pygments_lexer": "ipython3",
   "version": "3.12.9"
  }
 },
 "nbformat": 4,
 "nbformat_minor": 4
}
