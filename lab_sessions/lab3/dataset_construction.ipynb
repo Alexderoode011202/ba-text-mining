{
 "cells": [
  {
   "cell_type": "code",
   "execution_count": 20,
   "metadata": {},
   "outputs": [],
   "source": [
    "from csv import DictReader\n",
    "import json\n",
    "from typing import Dict\n",
    "from random import randint"
   ]
  },
  {
   "cell_type": "code",
   "execution_count": 39,
   "metadata": {},
   "outputs": [],
   "source": [
    "def generate_link(username: str) -> str:\n",
    "    random_num: int = randint(100000000000000000, 999999999999999999)\n",
    "    return f\"https://x.com/{username}/status/{random_num}\""
   ]
  },
  {
   "cell_type": "code",
   "execution_count": 27,
   "metadata": {},
   "outputs": [
    {
     "name": "stdout",
     "output_type": "stream",
     "text": [
      "['Tweet_ID', 'Username', 'Text', 'Retweets', 'Likes', 'Timestamp']\n",
      "julie81\n",
      "Party least receive say or single. Prevent prevent husband affect. May himself cup style evening protect. Effect another themselves stage perform.\n",
      "Possible try tax share style television with. Successful much sell development economy effect.\n"
     ]
    },
    {
     "ename": "TypeError",
     "evalue": "'_csv.reader' object is not subscriptable",
     "output_type": "error",
     "traceback": [
      "\u001b[0;31m---------------------------------------------------------------------------\u001b[0m",
      "\u001b[0;31mTypeError\u001b[0m                                 Traceback (most recent call last)",
      "Cell \u001b[0;32mIn[27], line 9\u001b[0m\n\u001b[1;32m      6\u001b[0m     \u001b[38;5;28mprint\u001b[39m(tweet[\u001b[38;5;124m\"\u001b[39m\u001b[38;5;124mText\u001b[39m\u001b[38;5;124m\"\u001b[39m])\n\u001b[1;32m      7\u001b[0m     \u001b[38;5;28;01mbreak\u001b[39;00m\n\u001b[0;32m----> 9\u001b[0m \u001b[38;5;28mprint\u001b[39m(\u001b[43mdr\u001b[49m\u001b[38;5;241;43m.\u001b[39;49m\u001b[43mreader\u001b[49m\u001b[43m[\u001b[49m\u001b[38;5;241;43m0\u001b[39;49m\u001b[43m]\u001b[49m)\n",
      "\u001b[0;31mTypeError\u001b[0m: '_csv.reader' object is not subscriptable"
     ]
    }
   ],
   "source": [
    "with open(\"twitter_dataset.csv\") as file:\n",
    "    dr = DictReader(file)\n",
    "    print(dr.fieldnames)\n",
    "    for tweet in dr:\n",
    "        print(tweet[\"Username\"])\n",
    "        print(tweet[\"Text\"])\n",
    "        break\n",
    "    \n",
    "    print(dr.reader)\n",
    "    \n",
    "\n",
    "    "
   ]
  },
  {
   "cell_type": "code",
   "execution_count": 10,
   "metadata": {},
   "outputs": [],
   "source": [
    "with open(\"test.json\", \"w\") as file:\n",
    "    json.dump({\"1\":{\"test1\": 1, \"test2\": 2}}, file, indent=4)"
   ]
  },
  {
   "cell_type": "code",
   "execution_count": 53,
   "metadata": {},
   "outputs": [],
   "source": [
    "verbose: bool = False\n",
    "\n",
    "with open(\"Twitter_Data.csv\", \"r\") as source:\n",
    "    with open(\"test.json\", \"w\") as destination:\n",
    "        with open(\"twitter_dataset.csv\") as twitter_names_file:\n",
    "\n",
    "            twitter_names= DictReader(twitter_names_file)\n",
    "            twitter_dict = DictReader(source)\n",
    "\n",
    "            new_dataset: Dict[str, Dict[str, str]] = {}\n",
    "            counter: int = 1\n",
    "            for tweet, name_tweet in zip(twitter_dict, twitter_names): # clean_text, category | Username\n",
    "\n",
    "                text_of_tweet: str = tweet[\"clean_text\"]    # get the text\n",
    "                \n",
    "                # get the correct label\n",
    "                # -------------------------\n",
    "                if tweet[\"category\"] == \"-1\":\n",
    "                    sentiment_label: str = \"negative\"\n",
    "                elif tweet[\"category\"] == \"0\":\n",
    "                    sentiment_label: str = \"neutral\"\n",
    "                elif tweet[\"category\"] == \"1\":\n",
    "                    sentiment_label: str = \"positive\"\n",
    "                else:\n",
    "                    raise ValueError\n",
    "                # /////////////////////////\n",
    "\n",
    "                # generate link\n",
    "                # -------------------------\n",
    "                tweet_url: str = generate_link(username=name_tweet[\"Username\"])\n",
    "                # /////////////////////////\n",
    "\n",
    "                if verbose:\n",
    "                    print(text_of_tweet)\n",
    "                    print(sentiment_label)\n",
    "                    print(tweet_url)\n",
    "                \n",
    "                # add new data to dataset\n",
    "                # -------------------------\n",
    "                new_dataset[f\"{counter}\"] = {\"sentiment_label\": sentiment_label,\n",
    "                                           \"text_of_tweet\"  : text_of_tweet,\n",
    "                                           \"tweet_url\"      : tweet_url}\n",
    "                # /////////////////////////\n",
    "\n",
    "                if verbose:\n",
    "                    print(new_dataset)\n",
    "\n",
    "                # make sure we only sample 50 tweets\n",
    "                # -------------------------\n",
    "                if counter == 50:\n",
    "                    break\n",
    "                else:\n",
    "                    counter += 1\n",
    "                # /////////////////////////\n",
    "\n",
    "            json.dump(new_dataset, destination, indent=4, ensure_ascii=False)"
   ]
  },
  {
   "cell_type": "code",
   "execution_count": null,
   "metadata": {},
   "outputs": [],
   "source": []
  },
  {
   "cell_type": "code",
   "execution_count": 19,
   "metadata": {},
   "outputs": [
    {
     "data": {
      "text/plain": [
       "18"
      ]
     },
     "execution_count": 19,
     "metadata": {},
     "output_type": "execute_result"
    }
   ],
   "source": [
    "len(\"811531782982078464\")"
   ]
  },
  {
   "cell_type": "code",
   "execution_count": 21,
   "metadata": {},
   "outputs": [
    {
     "data": {
      "text/plain": [
       "236543807537134966"
      ]
     },
     "execution_count": 21,
     "metadata": {},
     "output_type": "execute_result"
    }
   ],
   "source": [
    "randint(100000000000000000, 999999999999999999)"
   ]
  }
 ],
 "metadata": {
  "kernelspec": {
   "display_name": "Python 3",
   "language": "python",
   "name": "python3"
  },
  "language_info": {
   "codemirror_mode": {
    "name": "ipython",
    "version": 3
   },
   "file_extension": ".py",
   "mimetype": "text/x-python",
   "name": "python",
   "nbconvert_exporter": "python",
   "pygments_lexer": "ipython3",
   "version": "3.12.9"
  }
 },
 "nbformat": 4,
 "nbformat_minor": 2
}
